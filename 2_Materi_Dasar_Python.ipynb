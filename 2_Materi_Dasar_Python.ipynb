{
 "cells": [
  {
   "cell_type": "markdown",
   "id": "joined-gibraltar",
   "metadata": {},
   "source": [
    "<div style=\"background-color: #28a745 !important; color: white; min-height: 50px; padding: 10px; margin: auto;\">\n",
    "    <p style=\"text-align: right; font-style: italic\">Geoscope Geohazard Workshop HMGF UGM</p>\n",
    "    <h1>Materi Dasar Python</h1>\n",
    "</div>\n",
    "<div style=\"background-color: whitesmoke; padding: 10px \">\n",
    "    <ul>\n",
    "        <li>Tujuan: Memperkenalkan Beberapa Algoritma Umum pada Python</li>\n",
    "        <li>Keluaran: Peserta dapat menulis kode sederhana untuk algoritma umum di Python dan mengaplikasikannya pada data katalog gempabumi sederhana</li>\n",
    "        <li>Sesi: 2</li>\n",
    "        <li>Waktu/Tempat: Sabtu, 20 Februari 2021/ Zoom Meeting</li>\n",
    "    </ul>\n",
    "</div>"
   ]
  },
  {
   "cell_type": "markdown",
   "id": "interstate-harvey",
   "metadata": {},
   "source": [
    "## Membaca Data Tabular Menggunakan Pandas\n",
    "\n",
    "Pada pertemuan di sesi kedua ini kita akan mulai bermain data dan mengaplikasikan beberapa-beberapa algoritma sederhana di Python untuk data tersebut. Data yang kita gunakan adalah katalog gempa Badan Meteorologi dan Geofisika (BMKG) pada kejadian gempa Mw 6.2 di Mamuju pada Januari lalu. Katalog gempa yang digunakan adalah dalam jangka waktu 11 Januari sampai 30 Januari 2021. Format data katalog berbentuk *Comma Separated Values* (CSV) dan sudah disesuaikan agar lebih mudah dibaca menggunakan Python. Peserta dapat mengunduh data ini dengan menekan [download data](http://aa.oo). Format dari data ini adalah seperti berikut ini:\n",
    "\n",
    "\n",
    "```\n",
    "time,latitude,longitude,depth,magnitude\n",
    "2021-01-27T18:43:24.965Z,-2.97,118.83,11,3.7\n",
    "2021-01-25T16:04:16.363Z,-3.01,118.80,47,2.8\n",
    "2021-01-24T20:52:08.070Z,-2.94,118.61,10,2.6\n",
    "2021-01-24T16:52:55.221Z,-3.00,118.80,35,2.4\n",
    "2021-01-24T02:38:50.171Z,-2.95,118.88,14,3.1\n",
    "2021-01-21T11:55:35.955Z,-2.90,118.91,10,4.0\n",
    "```\n",
    "\n",
    "Pembacaan data untuk format CSV seperti di atas dapat dilakukan dengan berbagai macam cara seperti menggunakan fungsi bawaan seperti `open`, `numpy.genfromtxt`, atau menggunakan fungsi yang lebih *high level* atau mudah seperti `pandas.read_csv`. Pada praktik ini kita akan menggunakan cara yang paling mudah dan paling pendek yaitu menggunakan `pandas.read_csv` yang berada dalam modul `pandas`. Modul `pandas` memiliki spesialiasi manipulasi data dalam berbagai format, salah satunya yaitu format tabular seperti yang akan kita olah."
   ]
  },
  {
   "cell_type": "markdown",
   "id": "circular-advertising",
   "metadata": {},
   "source": [
    "### Mengimpor Modul `pandas`\n",
    "\n",
    "Seperti pada pertemuan pertama dimana kita harus mengimpor modul yang akan kita gunakan (`math`), kita juga akan mengimpor `pandas` dan kemudian memberikan alias panggilan `pd` agar untuk penulisan kode lebih mudah."
   ]
  },
  {
   "cell_type": "code",
   "execution_count": 1,
   "id": "capable-sitting",
   "metadata": {},
   "outputs": [],
   "source": [
    "import pandas as pd"
   ]
  },
  {
   "cell_type": "markdown",
   "id": "assigned-conditioning",
   "metadata": {},
   "source": [
    "Cara pengimporan modul atau paket seperti di atas akan lazim kita temui dalam penulisan kode di Python, selain cara tersebut kita juga dapat langsung mengimpor fungsi yang akan kita gunakan, alih-alih mengimpor modul secara umum. Contoh yang terakhir akan kita berikan di pembahasan di bagian belakang."
   ]
  },
  {
   "cell_type": "markdown",
   "id": "excess-auditor",
   "metadata": {},
   "source": [
    "### Membaca Data Menggunakan Fungsi `pandas.read_csv`\n",
    "Fungsi dari `pandas` yang berguna untuk membaca data tabular dalam bentuk CSV adalah `pandas.read_csv` tetapi karena `pandas` sudah kita berikan alias `pd` maka kita cukup mengetikkan `pd.read_csv`. Sebelum kita menggunakan fungsi tersebut kita terlebih dahulu akan membaca petunjuk penggunaan fungsinya dengan menggunakan fungsi `help`:"
   ]
  },
  {
   "cell_type": "code",
   "execution_count": 2,
   "id": "reserved-cheese",
   "metadata": {},
   "outputs": [
    {
     "name": "stdout",
     "output_type": "stream",
     "text": [
      "Help on function read_csv in module pandas.io.parsers:\n",
      "\n",
      "read_csv(filepath_or_buffer: Union[ForwardRef('PathLike[str]'), str, IO[~T], io.RawIOBase, io.BufferedIOBase, io.TextIOBase, _io.TextIOWrapper, mmap.mmap], sep=<object object at 0x7f3d1c9451c0>, delimiter=None, header='infer', names=None, index_col=None, usecols=None, squeeze=False, prefix=None, mangle_dupe_cols=True, dtype=None, engine=None, converters=None, true_values=None, false_values=None, skipinitialspace=False, skiprows=None, skipfooter=0, nrows=None, na_values=None, keep_default_na=True, na_filter=True, verbose=False, skip_blank_lines=True, parse_dates=False, infer_datetime_format=False, keep_date_col=False, date_parser=None, dayfirst=False, cache_dates=True, iterator=False, chunksize=None, compression='infer', thousands=None, decimal: str = '.', lineterminator=None, quotechar='\"', quoting=0, doublequote=True, escapechar=None, comment=None, encoding=None, dialect=None, error_bad_lines=True, warn_bad_lines=True, delim_whitespace=False, low_memory=True, memory_map=False, float_precision=None, storage_options: Union[Dict[str, Any], NoneType] = None)\n",
      "    Read a comma-separated values (csv) file into DataFrame.\n",
      "    \n",
      "    Also supports optionally iterating or breaking of the file\n",
      "    into chunks.\n",
      "    \n",
      "    Additional help can be found in the online docs for\n",
      "    `IO Tools <https://pandas.pydata.org/pandas-docs/stable/user_guide/io.html>`_.\n",
      "    \n",
      "    Parameters\n",
      "    ----------\n",
      "    filepath_or_buffer : str, path object or file-like object\n",
      "        Any valid string path is acceptable. The string could be a URL. Valid\n",
      "        URL schemes include http, ftp, s3, gs, and file. For file URLs, a host is\n",
      "        expected. A local file could be: file://localhost/path/to/table.csv.\n",
      "    \n",
      "        If you want to pass in a path object, pandas accepts any ``os.PathLike``.\n",
      "    \n",
      "        By file-like object, we refer to objects with a ``read()`` method, such as\n",
      "        a file handle (e.g. via builtin ``open`` function) or ``StringIO``.\n",
      "    sep : str, default ','\n",
      "        Delimiter to use. If sep is None, the C engine cannot automatically detect\n",
      "        the separator, but the Python parsing engine can, meaning the latter will\n",
      "        be used and automatically detect the separator by Python's builtin sniffer\n",
      "        tool, ``csv.Sniffer``. In addition, separators longer than 1 character and\n",
      "        different from ``'\\s+'`` will be interpreted as regular expressions and\n",
      "        will also force the use of the Python parsing engine. Note that regex\n",
      "        delimiters are prone to ignoring quoted data. Regex example: ``'\\r\\t'``.\n",
      "    delimiter : str, default ``None``\n",
      "        Alias for sep.\n",
      "    header : int, list of int, default 'infer'\n",
      "        Row number(s) to use as the column names, and the start of the\n",
      "        data.  Default behavior is to infer the column names: if no names\n",
      "        are passed the behavior is identical to ``header=0`` and column\n",
      "        names are inferred from the first line of the file, if column\n",
      "        names are passed explicitly then the behavior is identical to\n",
      "        ``header=None``. Explicitly pass ``header=0`` to be able to\n",
      "        replace existing names. The header can be a list of integers that\n",
      "        specify row locations for a multi-index on the columns\n",
      "        e.g. [0,1,3]. Intervening rows that are not specified will be\n",
      "        skipped (e.g. 2 in this example is skipped). Note that this\n",
      "        parameter ignores commented lines and empty lines if\n",
      "        ``skip_blank_lines=True``, so ``header=0`` denotes the first line of\n",
      "        data rather than the first line of the file.\n",
      "    names : array-like, optional\n",
      "        List of column names to use. If the file contains a header row,\n",
      "        then you should explicitly pass ``header=0`` to override the column names.\n",
      "        Duplicates in this list are not allowed.\n",
      "    index_col : int, str, sequence of int / str, or False, default ``None``\n",
      "      Column(s) to use as the row labels of the ``DataFrame``, either given as\n",
      "      string name or column index. If a sequence of int / str is given, a\n",
      "      MultiIndex is used.\n",
      "    \n",
      "      Note: ``index_col=False`` can be used to force pandas to *not* use the first\n",
      "      column as the index, e.g. when you have a malformed file with delimiters at\n",
      "      the end of each line.\n",
      "    usecols : list-like or callable, optional\n",
      "        Return a subset of the columns. If list-like, all elements must either\n",
      "        be positional (i.e. integer indices into the document columns) or strings\n",
      "        that correspond to column names provided either by the user in `names` or\n",
      "        inferred from the document header row(s). For example, a valid list-like\n",
      "        `usecols` parameter would be ``[0, 1, 2]`` or ``['foo', 'bar', 'baz']``.\n",
      "        Element order is ignored, so ``usecols=[0, 1]`` is the same as ``[1, 0]``.\n",
      "        To instantiate a DataFrame from ``data`` with element order preserved use\n",
      "        ``pd.read_csv(data, usecols=['foo', 'bar'])[['foo', 'bar']]`` for columns\n",
      "        in ``['foo', 'bar']`` order or\n",
      "        ``pd.read_csv(data, usecols=['foo', 'bar'])[['bar', 'foo']]``\n",
      "        for ``['bar', 'foo']`` order.\n",
      "    \n",
      "        If callable, the callable function will be evaluated against the column\n",
      "        names, returning names where the callable function evaluates to True. An\n",
      "        example of a valid callable argument would be ``lambda x: x.upper() in\n",
      "        ['AAA', 'BBB', 'DDD']``. Using this parameter results in much faster\n",
      "        parsing time and lower memory usage.\n",
      "    squeeze : bool, default False\n",
      "        If the parsed data only contains one column then return a Series.\n",
      "    prefix : str, optional\n",
      "        Prefix to add to column numbers when no header, e.g. 'X' for X0, X1, ...\n",
      "    mangle_dupe_cols : bool, default True\n",
      "        Duplicate columns will be specified as 'X', 'X.1', ...'X.N', rather than\n",
      "        'X'...'X'. Passing in False will cause data to be overwritten if there\n",
      "        are duplicate names in the columns.\n",
      "    dtype : Type name or dict of column -> type, optional\n",
      "        Data type for data or columns. E.g. {'a': np.float64, 'b': np.int32,\n",
      "        'c': 'Int64'}\n",
      "        Use `str` or `object` together with suitable `na_values` settings\n",
      "        to preserve and not interpret dtype.\n",
      "        If converters are specified, they will be applied INSTEAD\n",
      "        of dtype conversion.\n",
      "    engine : {'c', 'python'}, optional\n",
      "        Parser engine to use. The C engine is faster while the python engine is\n",
      "        currently more feature-complete.\n",
      "    converters : dict, optional\n",
      "        Dict of functions for converting values in certain columns. Keys can either\n",
      "        be integers or column labels.\n",
      "    true_values : list, optional\n",
      "        Values to consider as True.\n",
      "    false_values : list, optional\n",
      "        Values to consider as False.\n",
      "    skipinitialspace : bool, default False\n",
      "        Skip spaces after delimiter.\n",
      "    skiprows : list-like, int or callable, optional\n",
      "        Line numbers to skip (0-indexed) or number of lines to skip (int)\n",
      "        at the start of the file.\n",
      "    \n",
      "        If callable, the callable function will be evaluated against the row\n",
      "        indices, returning True if the row should be skipped and False otherwise.\n",
      "        An example of a valid callable argument would be ``lambda x: x in [0, 2]``.\n",
      "    skipfooter : int, default 0\n",
      "        Number of lines at bottom of file to skip (Unsupported with engine='c').\n",
      "    nrows : int, optional\n",
      "        Number of rows of file to read. Useful for reading pieces of large files.\n",
      "    na_values : scalar, str, list-like, or dict, optional\n",
      "        Additional strings to recognize as NA/NaN. If dict passed, specific\n",
      "        per-column NA values.  By default the following values are interpreted as\n",
      "        NaN: '', '#N/A', '#N/A N/A', '#NA', '-1.#IND', '-1.#QNAN', '-NaN', '-nan',\n",
      "        '1.#IND', '1.#QNAN', '<NA>', 'N/A', 'NA', 'NULL', 'NaN', 'n/a',\n",
      "        'nan', 'null'.\n",
      "    keep_default_na : bool, default True\n",
      "        Whether or not to include the default NaN values when parsing the data.\n",
      "        Depending on whether `na_values` is passed in, the behavior is as follows:\n",
      "    \n",
      "        * If `keep_default_na` is True, and `na_values` are specified, `na_values`\n",
      "          is appended to the default NaN values used for parsing.\n",
      "        * If `keep_default_na` is True, and `na_values` are not specified, only\n",
      "          the default NaN values are used for parsing.\n",
      "        * If `keep_default_na` is False, and `na_values` are specified, only\n",
      "          the NaN values specified `na_values` are used for parsing.\n",
      "        * If `keep_default_na` is False, and `na_values` are not specified, no\n",
      "          strings will be parsed as NaN.\n",
      "    \n",
      "        Note that if `na_filter` is passed in as False, the `keep_default_na` and\n",
      "        `na_values` parameters will be ignored.\n",
      "    na_filter : bool, default True\n",
      "        Detect missing value markers (empty strings and the value of na_values). In\n",
      "        data without any NAs, passing na_filter=False can improve the performance\n",
      "        of reading a large file.\n",
      "    verbose : bool, default False\n",
      "        Indicate number of NA values placed in non-numeric columns.\n",
      "    skip_blank_lines : bool, default True\n",
      "        If True, skip over blank lines rather than interpreting as NaN values.\n",
      "    parse_dates : bool or list of int or names or list of lists or dict, default False\n",
      "        The behavior is as follows:\n",
      "    \n",
      "        * boolean. If True -> try parsing the index.\n",
      "        * list of int or names. e.g. If [1, 2, 3] -> try parsing columns 1, 2, 3\n",
      "          each as a separate date column.\n",
      "        * list of lists. e.g.  If [[1, 3]] -> combine columns 1 and 3 and parse as\n",
      "          a single date column.\n",
      "        * dict, e.g. {'foo' : [1, 3]} -> parse columns 1, 3 as date and call\n",
      "          result 'foo'\n",
      "    \n",
      "        If a column or index cannot be represented as an array of datetimes,\n",
      "        say because of an unparsable value or a mixture of timezones, the column\n",
      "        or index will be returned unaltered as an object data type. For\n",
      "        non-standard datetime parsing, use ``pd.to_datetime`` after\n",
      "        ``pd.read_csv``. To parse an index or column with a mixture of timezones,\n",
      "        specify ``date_parser`` to be a partially-applied\n",
      "        :func:`pandas.to_datetime` with ``utc=True``. See\n",
      "        :ref:`io.csv.mixed_timezones` for more.\n",
      "    \n",
      "        Note: A fast-path exists for iso8601-formatted dates.\n",
      "    infer_datetime_format : bool, default False\n",
      "        If True and `parse_dates` is enabled, pandas will attempt to infer the\n",
      "        format of the datetime strings in the columns, and if it can be inferred,\n",
      "        switch to a faster method of parsing them. In some cases this can increase\n",
      "        the parsing speed by 5-10x.\n",
      "    keep_date_col : bool, default False\n",
      "        If True and `parse_dates` specifies combining multiple columns then\n",
      "        keep the original columns.\n",
      "    date_parser : function, optional\n",
      "        Function to use for converting a sequence of string columns to an array of\n",
      "        datetime instances. The default uses ``dateutil.parser.parser`` to do the\n",
      "        conversion. Pandas will try to call `date_parser` in three different ways,\n",
      "        advancing to the next if an exception occurs: 1) Pass one or more arrays\n",
      "        (as defined by `parse_dates`) as arguments; 2) concatenate (row-wise) the\n",
      "        string values from the columns defined by `parse_dates` into a single array\n",
      "        and pass that; and 3) call `date_parser` once for each row using one or\n",
      "        more strings (corresponding to the columns defined by `parse_dates`) as\n",
      "        arguments.\n",
      "    dayfirst : bool, default False\n",
      "        DD/MM format dates, international and European format.\n",
      "    cache_dates : bool, default True\n",
      "        If True, use a cache of unique, converted dates to apply the datetime\n",
      "        conversion. May produce significant speed-up when parsing duplicate\n",
      "        date strings, especially ones with timezone offsets.\n",
      "    \n",
      "        .. versionadded:: 0.25.0\n",
      "    iterator : bool, default False\n",
      "        Return TextFileReader object for iteration or getting chunks with\n",
      "        ``get_chunk()``.\n",
      "    \n",
      "        .. versionchanged:: 1.2\n",
      "    \n",
      "           ``TextFileReader`` is a context manager.\n",
      "    chunksize : int, optional\n",
      "        Return TextFileReader object for iteration.\n",
      "        See the `IO Tools docs\n",
      "        <https://pandas.pydata.org/pandas-docs/stable/io.html#io-chunking>`_\n",
      "        for more information on ``iterator`` and ``chunksize``.\n",
      "    \n",
      "        .. versionchanged:: 1.2\n",
      "    \n",
      "           ``TextFileReader`` is a context manager.\n",
      "    compression : {'infer', 'gzip', 'bz2', 'zip', 'xz', None}, default 'infer'\n",
      "        For on-the-fly decompression of on-disk data. If 'infer' and\n",
      "        `filepath_or_buffer` is path-like, then detect compression from the\n",
      "        following extensions: '.gz', '.bz2', '.zip', or '.xz' (otherwise no\n",
      "        decompression). If using 'zip', the ZIP file must contain only one data\n",
      "        file to be read in. Set to None for no decompression.\n",
      "    thousands : str, optional\n",
      "        Thousands separator.\n",
      "    decimal : str, default '.'\n",
      "        Character to recognize as decimal point (e.g. use ',' for European data).\n",
      "    lineterminator : str (length 1), optional\n",
      "        Character to break file into lines. Only valid with C parser.\n",
      "    quotechar : str (length 1), optional\n",
      "        The character used to denote the start and end of a quoted item. Quoted\n",
      "        items can include the delimiter and it will be ignored.\n",
      "    quoting : int or csv.QUOTE_* instance, default 0\n",
      "        Control field quoting behavior per ``csv.QUOTE_*`` constants. Use one of\n",
      "        QUOTE_MINIMAL (0), QUOTE_ALL (1), QUOTE_NONNUMERIC (2) or QUOTE_NONE (3).\n",
      "    doublequote : bool, default ``True``\n",
      "       When quotechar is specified and quoting is not ``QUOTE_NONE``, indicate\n",
      "       whether or not to interpret two consecutive quotechar elements INSIDE a\n",
      "       field as a single ``quotechar`` element.\n",
      "    escapechar : str (length 1), optional\n",
      "        One-character string used to escape other characters.\n",
      "    comment : str, optional\n",
      "        Indicates remainder of line should not be parsed. If found at the beginning\n",
      "        of a line, the line will be ignored altogether. This parameter must be a\n",
      "        single character. Like empty lines (as long as ``skip_blank_lines=True``),\n",
      "        fully commented lines are ignored by the parameter `header` but not by\n",
      "        `skiprows`. For example, if ``comment='#'``, parsing\n",
      "        ``#empty\\na,b,c\\n1,2,3`` with ``header=0`` will result in 'a,b,c' being\n",
      "        treated as the header.\n",
      "    encoding : str, optional\n",
      "        Encoding to use for UTF when reading/writing (ex. 'utf-8'). `List of Python\n",
      "        standard encodings\n",
      "        <https://docs.python.org/3/library/codecs.html#standard-encodings>`_ .\n",
      "        .. versionchanged:: 1.2\n",
      "    \n",
      "           When ``encoding`` is ``None``, ``errors=\"replace\"`` is passed to\n",
      "           ``open()``. Otherwise, ``errors=\"strict\"`` is passed to ``open()``.\n",
      "           This behavior was previously only the case for ``engine=\"python\"``.\n",
      "    dialect : str or csv.Dialect, optional\n",
      "        If provided, this parameter will override values (default or not) for the\n",
      "        following parameters: `delimiter`, `doublequote`, `escapechar`,\n",
      "        `skipinitialspace`, `quotechar`, and `quoting`. If it is necessary to\n",
      "        override values, a ParserWarning will be issued. See csv.Dialect\n",
      "        documentation for more details.\n",
      "    error_bad_lines : bool, default True\n",
      "        Lines with too many fields (e.g. a csv line with too many commas) will by\n",
      "        default cause an exception to be raised, and no DataFrame will be returned.\n",
      "        If False, then these \"bad lines\" will dropped from the DataFrame that is\n",
      "        returned.\n",
      "    warn_bad_lines : bool, default True\n",
      "        If error_bad_lines is False, and warn_bad_lines is True, a warning for each\n",
      "        \"bad line\" will be output.\n",
      "    delim_whitespace : bool, default False\n",
      "        Specifies whether or not whitespace (e.g. ``' '`` or ``'    '``) will be\n",
      "        used as the sep. Equivalent to setting ``sep='\\s+'``. If this option\n",
      "        is set to True, nothing should be passed in for the ``delimiter``\n",
      "        parameter.\n",
      "    low_memory : bool, default True\n",
      "        Internally process the file in chunks, resulting in lower memory use\n",
      "        while parsing, but possibly mixed type inference.  To ensure no mixed\n",
      "        types either set False, or specify the type with the `dtype` parameter.\n",
      "        Note that the entire file is read into a single DataFrame regardless,\n",
      "        use the `chunksize` or `iterator` parameter to return the data in chunks.\n",
      "        (Only valid with C parser).\n",
      "    memory_map : bool, default False\n",
      "        If a filepath is provided for `filepath_or_buffer`, map the file object\n",
      "        directly onto memory and access the data directly from there. Using this\n",
      "        option can improve performance because there is no longer any I/O overhead.\n",
      "    float_precision : str, optional\n",
      "        Specifies which converter the C engine should use for floating-point\n",
      "        values. The options are ``None`` or 'high' for the ordinary converter,\n",
      "        'legacy' for the original lower precision pandas converter, and\n",
      "        'round_trip' for the round-trip converter.\n",
      "    \n",
      "        .. versionchanged:: 1.2\n",
      "    \n",
      "    storage_options : dict, optional\n",
      "        Extra options that make sense for a particular storage connection, e.g.\n",
      "        host, port, username, password, etc., if using a URL that will\n",
      "        be parsed by ``fsspec``, e.g., starting \"s3://\", \"gcs://\". An error\n",
      "        will be raised if providing this argument with a non-fsspec URL.\n",
      "        See the fsspec and backend storage implementation docs for the set of\n",
      "        allowed keys and values.\n",
      "    \n",
      "        .. versionadded:: 1.2\n",
      "    \n",
      "    Returns\n",
      "    -------\n",
      "    DataFrame or TextParser\n",
      "        A comma-separated values (csv) file is returned as two-dimensional\n",
      "        data structure with labeled axes.\n",
      "    \n",
      "    See Also\n",
      "    --------\n",
      "    DataFrame.to_csv : Write DataFrame to a comma-separated values (csv) file.\n",
      "    read_csv : Read a comma-separated values (csv) file into DataFrame.\n",
      "    read_fwf : Read a table of fixed-width formatted lines into DataFrame.\n",
      "    \n",
      "    Examples\n",
      "    --------\n",
      "    >>> pd.read_csv('data.csv')  # doctest: +SKIP\n",
      "\n"
     ]
    }
   ],
   "source": [
    "help(pd.read_csv)"
   ]
  },
  {
   "cell_type": "markdown",
   "id": "endangered-holiday",
   "metadata": {},
   "source": [
    "Terdapat banyak sekali parameter yang harus kita isikan (atau kita biasa sebut sebagai argumen). Argumen-argumen yang diikuti tanda `=` dan isi parameternya (contoh `delimiter=None`) merupakan argumen yang sudah memiliki nilai *default*, dalam contoh ini untuk argumen `delimiter` apabila tidak kita isi maka secara otomatis akan terisi dengan nilai `None`. Dengan demikian, tidak semua argumen dalam sebuah fungsi harus kita isikan. Pada `pd.read_csv` ini sebenarnya fungsi akan mendeteksi secara otomatis delimiter (tanda pemisah kolom, dalam contoh kita yaitu koma (,)) yang ada di dalam data yang akan dibaca. Saatnya kita membaca data:"
   ]
  },
  {
   "cell_type": "code",
   "execution_count": 3,
   "id": "removable-february",
   "metadata": {},
   "outputs": [],
   "source": [
    "data = pd.read_csv(\"data/demo_data_BMKG_Mamuju.csv\")"
   ]
  },
  {
   "cell_type": "markdown",
   "id": "statutory-bearing",
   "metadata": {},
   "source": [
    "Pada contoh kode pembacaan di atas ini kita hanya mengisikan satu argumen yaitu data yang akan kita gunakan (dalam bentuk `String` karena merupakan kumpulan karakter non angka). Argumen-argumen lain kita tidak isikan karena fungsi ini secara otomatis akan mendeteksi format data yang kita gunakan, dengan catatan data kita sudah rapi dan bersih. Untuk melihat data yang sudah kita baca kita dapat memanggilnya dengan menulis `data` seperti pada kode di bawah ini."
   ]
  },
  {
   "cell_type": "code",
   "execution_count": 4,
   "id": "technological-animation",
   "metadata": {
    "scrolled": true
   },
   "outputs": [
    {
     "data": {
      "text/html": [
       "<div>\n",
       "<style scoped>\n",
       "    .dataframe tbody tr th:only-of-type {\n",
       "        vertical-align: middle;\n",
       "    }\n",
       "\n",
       "    .dataframe tbody tr th {\n",
       "        vertical-align: top;\n",
       "    }\n",
       "\n",
       "    .dataframe thead th {\n",
       "        text-align: right;\n",
       "    }\n",
       "</style>\n",
       "<table border=\"1\" class=\"dataframe\">\n",
       "  <thead>\n",
       "    <tr style=\"text-align: right;\">\n",
       "      <th></th>\n",
       "      <th>time</th>\n",
       "      <th>latitude</th>\n",
       "      <th>longitude</th>\n",
       "      <th>depth</th>\n",
       "      <th>magnitude</th>\n",
       "    </tr>\n",
       "  </thead>\n",
       "  <tbody>\n",
       "    <tr>\n",
       "      <th>0</th>\n",
       "      <td>2021-01-27T18:43:24.965Z</td>\n",
       "      <td>-2.97</td>\n",
       "      <td>118.83</td>\n",
       "      <td>11</td>\n",
       "      <td>3.7</td>\n",
       "    </tr>\n",
       "    <tr>\n",
       "      <th>1</th>\n",
       "      <td>2021-01-25T16:04:16.363Z</td>\n",
       "      <td>-3.01</td>\n",
       "      <td>118.80</td>\n",
       "      <td>47</td>\n",
       "      <td>2.8</td>\n",
       "    </tr>\n",
       "    <tr>\n",
       "      <th>2</th>\n",
       "      <td>2021-01-24T20:52:08.070Z</td>\n",
       "      <td>-2.94</td>\n",
       "      <td>118.61</td>\n",
       "      <td>10</td>\n",
       "      <td>2.6</td>\n",
       "    </tr>\n",
       "    <tr>\n",
       "      <th>3</th>\n",
       "      <td>2021-01-24T16:52:55.221Z</td>\n",
       "      <td>-3.00</td>\n",
       "      <td>118.80</td>\n",
       "      <td>35</td>\n",
       "      <td>2.4</td>\n",
       "    </tr>\n",
       "    <tr>\n",
       "      <th>4</th>\n",
       "      <td>2021-01-24T02:38:50.171Z</td>\n",
       "      <td>-2.95</td>\n",
       "      <td>118.88</td>\n",
       "      <td>14</td>\n",
       "      <td>3.1</td>\n",
       "    </tr>\n",
       "  </tbody>\n",
       "</table>\n",
       "</div>"
      ],
      "text/plain": [
       "                       time  latitude  longitude  depth  magnitude\n",
       "0  2021-01-27T18:43:24.965Z     -2.97     118.83     11        3.7\n",
       "1  2021-01-25T16:04:16.363Z     -3.01     118.80     47        2.8\n",
       "2  2021-01-24T20:52:08.070Z     -2.94     118.61     10        2.6\n",
       "3  2021-01-24T16:52:55.221Z     -3.00     118.80     35        2.4\n",
       "4  2021-01-24T02:38:50.171Z     -2.95     118.88     14        3.1"
      ]
     },
     "execution_count": 4,
     "metadata": {},
     "output_type": "execute_result"
    }
   ],
   "source": [
    "data.head()"
   ]
  },
  {
   "cell_type": "markdown",
   "id": "swiss-label",
   "metadata": {},
   "source": [
    "Seperti yang sudah kita bahas diawal, `pd.read_csv` akan secara otomatis mendeteksi format data yang kita baca. Saat data kita panggil dengan perintah `data` maka akan muncul tabel seperti di atas. Kita dapat mengecek apakah data sudah terbaca dengan baik, pada contoh di atas data terbaca dengan baik karena masing-masing kolom terpisahkan dengan benar. Bagaimana dengan contoh pembacaan yang masih salah?"
   ]
  },
  {
   "cell_type": "code",
   "execution_count": 5,
   "id": "presidential-snowboard",
   "metadata": {
    "scrolled": true
   },
   "outputs": [
    {
     "data": {
      "text/html": [
       "<div>\n",
       "<style scoped>\n",
       "    .dataframe tbody tr th:only-of-type {\n",
       "        vertical-align: middle;\n",
       "    }\n",
       "\n",
       "    .dataframe tbody tr th {\n",
       "        vertical-align: top;\n",
       "    }\n",
       "\n",
       "    .dataframe thead th {\n",
       "        text-align: right;\n",
       "    }\n",
       "</style>\n",
       "<table border=\"1\" class=\"dataframe\">\n",
       "  <thead>\n",
       "    <tr style=\"text-align: right;\">\n",
       "      <th></th>\n",
       "      <th></th>\n",
       "      <th></th>\n",
       "      <th></th>\n",
       "      <th>time,latitude,longitude,depth,magnitude</th>\n",
       "    </tr>\n",
       "  </thead>\n",
       "  <tbody>\n",
       "    <tr>\n",
       "      <th>2021-01-27T18:43:24</th>\n",
       "      <th>965Z,-2</th>\n",
       "      <th>97,118</th>\n",
       "      <th>83,11,3</th>\n",
       "      <td>7</td>\n",
       "    </tr>\n",
       "    <tr>\n",
       "      <th>2021-01-25T16:04:16</th>\n",
       "      <th>363Z,-3</th>\n",
       "      <th>01,118</th>\n",
       "      <th>80,47,2</th>\n",
       "      <td>8</td>\n",
       "    </tr>\n",
       "    <tr>\n",
       "      <th>2021-01-24T20:52:08</th>\n",
       "      <th>070Z,-2</th>\n",
       "      <th>94,118</th>\n",
       "      <th>61,10,2</th>\n",
       "      <td>6</td>\n",
       "    </tr>\n",
       "    <tr>\n",
       "      <th>2021-01-24T16:52:55</th>\n",
       "      <th>221Z,-3</th>\n",
       "      <th>00,118</th>\n",
       "      <th>80,35,2</th>\n",
       "      <td>4</td>\n",
       "    </tr>\n",
       "    <tr>\n",
       "      <th>2021-01-24T02:38:50</th>\n",
       "      <th>171Z,-2</th>\n",
       "      <th>95,118</th>\n",
       "      <th>88,14,3</th>\n",
       "      <td>1</td>\n",
       "    </tr>\n",
       "  </tbody>\n",
       "</table>\n",
       "</div>"
      ],
      "text/plain": [
       "                                            time,latitude,longitude,depth,magnitude\n",
       "2021-01-27T18:43:24 965Z,-2 97,118 83,11,3                                        7\n",
       "2021-01-25T16:04:16 363Z,-3 01,118 80,47,2                                        8\n",
       "2021-01-24T20:52:08 070Z,-2 94,118 61,10,2                                        6\n",
       "2021-01-24T16:52:55 221Z,-3 00,118 80,35,2                                        4\n",
       "2021-01-24T02:38:50 171Z,-2 95,118 88,14,3                                        1"
      ]
     },
     "execution_count": 5,
     "metadata": {},
     "output_type": "execute_result"
    }
   ],
   "source": [
    "data_salah = pd.read_csv(\"./demo_data_BMKG_MamujuEQ.csv\", delimiter=\".\")\n",
    "data_salah.head()"
   ]
  },
  {
   "cell_type": "markdown",
   "id": "endless-phrase",
   "metadata": {},
   "source": [
    "Pada contoh pembacaan yang salah pada kode diatas, kita memasukkan nilai untuk argumen `delimiter` yaitu berupa tanda titik `.`, padahal pemisah antar kolom pada file CSV kita berupa tanda koma (,). Hal tersebut membuat pemisahan antar kolom tidak benar."
   ]
  },
  {
   "cell_type": "markdown",
   "id": "prerequisite-sucking",
   "metadata": {},
   "source": [
    "## Membedakan Jenis Data pada Kolom Data Katalog\n",
    "\n",
    "Setelah berhasil membaca data, langkah selanjutnya adalah melihat beberapa tipe-tipe data pada masing-masing kolom untuk mengingatkan kembali pengetahuan kita tentang `String`, `Float`, dan `Integer`. Pada data yang dibaca menggunakan `pd.read_csv`, tabel secara umum memiliki format tersendiri yaitu `DataFrame`, format yang dibuat oleh `pandas`."
   ]
  },
  {
   "cell_type": "code",
   "execution_count": null,
   "id": "cardiovascular-election",
   "metadata": {
    "scrolled": false
   },
   "outputs": [],
   "source": [
    "help(data)"
   ]
  },
  {
   "cell_type": "markdown",
   "id": "limiting-syracuse",
   "metadata": {},
   "source": [
    "Masing-masing kolom sendiri memiliki jenis data yang beragam tergantung dengan isi dari setiap kolom tersebut. Pada contoh yang pertama kita akan melihat jenis data yang ada dalam kolom `longitude`. Memanggil salah satu kolom dalam pandas cukup mudah yaitu kita hanya perlu menuliskan `data` kemudian diikuti dengan `[namakolom]`, maka untuk kolom `longitude` kita dapat melihat tipe datanya dengan:"
   ]
  },
  {
   "cell_type": "code",
   "execution_count": 7,
   "id": "crazy-reform",
   "metadata": {},
   "outputs": [
    {
     "data": {
      "text/plain": [
       "dtype('float64')"
      ]
     },
     "execution_count": 7,
     "metadata": {},
     "output_type": "execute_result"
    }
   ],
   "source": [
    "data['longitude'].dtype"
   ]
  },
  {
   "cell_type": "markdown",
   "id": "arbitrary-budapest",
   "metadata": {},
   "source": [
    "Kolom `longitude` ternyata data di dalamnya memiliki format data `Float` karena merupakan bilangan yang tidak bulat atau desimal. Apabila ingin melihat data dalam kolom ini kita dapat menuliskan kode:"
   ]
  },
  {
   "cell_type": "code",
   "execution_count": 8,
   "id": "moving-jacket",
   "metadata": {
    "scrolled": true
   },
   "outputs": [
    {
     "data": {
      "text/plain": [
       "0     118.83\n",
       "1     118.80\n",
       "2     118.61\n",
       "3     118.80\n",
       "4     118.88\n",
       "5     118.91\n",
       "6     118.86\n",
       "7     119.50\n",
       "8     118.88\n",
       "9     118.88\n",
       "10    118.91\n",
       "11    119.03\n",
       "12    118.94\n",
       "13    118.94\n",
       "14    118.84\n",
       "15    118.86\n",
       "16    118.92\n",
       "17    118.95\n",
       "18    118.92\n",
       "19    118.88\n",
       "20    118.93\n",
       "21    118.84\n",
       "22    118.85\n",
       "23    118.91\n",
       "24    119.01\n",
       "25    118.94\n",
       "26    118.93\n",
       "27    118.93\n",
       "28    118.91\n",
       "29    118.94\n",
       "30    118.89\n",
       "31    118.88\n",
       "32    118.95\n",
       "33    118.94\n",
       "34    118.90\n",
       "35    118.90\n",
       "36    118.88\n",
       "37    118.88\n",
       "38    118.93\n",
       "39    118.89\n",
       "40    118.92\n",
       "41    119.48\n",
       "Name: longitude, dtype: float64"
      ]
     },
     "execution_count": 8,
     "metadata": {},
     "output_type": "execute_result"
    }
   ],
   "source": [
    "data['longitude']"
   ]
  },
  {
   "cell_type": "markdown",
   "id": "speaking-morris",
   "metadata": {},
   "source": [
    "Format data yang berbeda kita temui pada kolom `depth` dimana semua data pada kolom ini berupa bilangan bulat sehingga tipe datanya seharusnya `Integer`."
   ]
  },
  {
   "cell_type": "code",
   "execution_count": 9,
   "id": "several-camera",
   "metadata": {},
   "outputs": [
    {
     "data": {
      "text/plain": [
       "dtype('int64')"
      ]
     },
     "execution_count": 9,
     "metadata": {},
     "output_type": "execute_result"
    }
   ],
   "source": [
    "data['depth'].dtype"
   ]
  },
  {
   "cell_type": "markdown",
   "id": "alien-graduation",
   "metadata": {},
   "source": [
    "Bagaimana dengan kolom `time`? Apakah tipe data pada kolom ini akan berupa `String`?"
   ]
  },
  {
   "cell_type": "code",
   "execution_count": 10,
   "id": "tired-recovery",
   "metadata": {},
   "outputs": [
    {
     "data": {
      "text/plain": [
       "dtype('O')"
      ]
     },
     "execution_count": 10,
     "metadata": {},
     "output_type": "execute_result"
    }
   ],
   "source": [
    "data['time'].dtype"
   ]
  },
  {
   "cell_type": "markdown",
   "id": "planned-sector",
   "metadata": {},
   "source": [
    "Ternyata pada kolom `time` tipe datanya adalah `Object` yang disingkat `O`, tipe ini merupakan kita yang lebih lanjut karena dapat berupa jenis data apapun, terkecuali `Integer` dan `Float`, dalam contoh ini."
   ]
  },
  {
   "cell_type": "markdown",
   "id": "brazilian-apparatus",
   "metadata": {},
   "source": [
    "## Mempelajari Data Bertipe `list` dan `tuple`\n",
    "\n",
    "### List\n",
    "Apabila kita sudah dapat membedakan jenis data untuk nilai yang berupa satuan (tidak berupa kumpulan nilai) yaitu seperti `String`, `Float`, dan `Integer`. Bagaimana dengan jenis atau tipe data yang merupakan kumpulan-kumpulan angka atau huruf? Seperti contoh pada data di bawah ini:\n",
    "\n",
    "```python\n",
    "deret = [1,2,3,4,5]\n",
    "alamat = [\"Yogyakarta\", \"Semarang\", \"Ambon\", \"Padang\"]\n",
    "```\n",
    "\n",
    "Pada `deret` kita tahu bahwa isinya merupakan kumpulan dari `Integer` dan pada `alamat` isinya merupakan kumpulan `String` tetapi untuk `deret` dan `alamat` secara utuh sendiri dapat kita dapat sebut sebagai apa? Kumpulan-kumpulan data dalam bentuk daftar satu dimensi seperti pada contoh `deret` dan `alamat` tersebut biasa kita sebut sebagai data berjenis `List`, atau secara matematika, fisika, ataupun ilmu komputer juga dapat kita sebut sebagai sebuah vektor, karena vektor pun bentuknya biasanya diwakili dari kumpulan angka-angka dalam satu baris seperti di atas.\n",
    "\n",
    "Setiap kolom dari data yang sebelumnya kita baca menggunakan `pd.read_csv` merupakan salah satu bentuk `List` karena berupa deretan angka dalam 1 dimensi saja atau 1 baris saja. Untuk membaca kolom kedalam bentuk `List` kita dapat menggunakan fungsi bawaan dari Python yaitu `list`:"
   ]
  },
  {
   "cell_type": "code",
   "execution_count": 11,
   "id": "interpreted-poster",
   "metadata": {
    "scrolled": true
   },
   "outputs": [
    {
     "data": {
      "text/plain": [
       "[118.83,\n",
       " 118.8,\n",
       " 118.61,\n",
       " 118.8,\n",
       " 118.88,\n",
       " 118.91,\n",
       " 118.86,\n",
       " 119.5,\n",
       " 118.88,\n",
       " 118.88,\n",
       " 118.91,\n",
       " 119.03,\n",
       " 118.94,\n",
       " 118.94,\n",
       " 118.84,\n",
       " 118.86,\n",
       " 118.92,\n",
       " 118.95,\n",
       " 118.92,\n",
       " 118.88,\n",
       " 118.93,\n",
       " 118.84,\n",
       " 118.85,\n",
       " 118.91,\n",
       " 119.01,\n",
       " 118.94,\n",
       " 118.93,\n",
       " 118.93,\n",
       " 118.91,\n",
       " 118.94,\n",
       " 118.89,\n",
       " 118.88,\n",
       " 118.95,\n",
       " 118.94,\n",
       " 118.9,\n",
       " 118.9,\n",
       " 118.88,\n",
       " 118.88,\n",
       " 118.93,\n",
       " 118.89,\n",
       " 118.92,\n",
       " 119.48]"
      ]
     },
     "execution_count": 11,
     "metadata": {},
     "output_type": "execute_result"
    }
   ],
   "source": [
    "longitude = list(data['longitude'])\n",
    "longitude"
   ]
  },
  {
   "cell_type": "markdown",
   "id": "voluntary-realtor",
   "metadata": {},
   "source": [
    "Ada metode yang dapat diaplikasikan untuk data berjenis`List` ini, yang paling sederhana adalah fungsi `len` untuk mengetahui panjang dari `List`:"
   ]
  },
  {
   "cell_type": "code",
   "execution_count": 12,
   "id": "intensive-substitute",
   "metadata": {},
   "outputs": [
    {
     "data": {
      "text/plain": [
       "42"
      ]
     },
     "execution_count": 12,
     "metadata": {},
     "output_type": "execute_result"
    }
   ],
   "source": [
    "len(longitude)"
   ]
  },
  {
   "cell_type": "markdown",
   "id": "saving-steering",
   "metadata": {},
   "source": [
    "#### Indeks pada `List`\n",
    "Data berjenis `List` diindeks dengan indeks awalan adalah 0 sehingga apabila akan memanggil data pertama dalam `List` longitude kita dapat menggunakan:"
   ]
  },
  {
   "cell_type": "code",
   "execution_count": 13,
   "id": "historic-preserve",
   "metadata": {},
   "outputs": [
    {
     "data": {
      "text/plain": [
       "118.83"
      ]
     },
     "execution_count": 13,
     "metadata": {},
     "output_type": "execute_result"
    }
   ],
   "source": [
    "longitude[0]"
   ]
  },
  {
   "cell_type": "markdown",
   "id": "emotional-concrete",
   "metadata": {},
   "source": [
    "Sehingga untuk data terakhir pada `List` `longitude` kita dapat memanggilnya dengan"
   ]
  },
  {
   "cell_type": "code",
   "execution_count": 14,
   "id": "common-rental",
   "metadata": {},
   "outputs": [
    {
     "data": {
      "text/plain": [
       "119.48"
      ]
     },
     "execution_count": 14,
     "metadata": {},
     "output_type": "execute_result"
    }
   ],
   "source": [
    "longitude[41]"
   ]
  },
  {
   "cell_type": "markdown",
   "id": "electronic-heritage",
   "metadata": {},
   "source": [
    "Karena diindeks dari 0 sehingga data terakhir berada pada indeks 41. Agar tidak bingung, Python memberikan alternatif apabila kita ingin memanggil data dari bagian belakang, yaitu dengan menambahakan simbol negatif (-) seperti pada contoh ini:"
   ]
  },
  {
   "cell_type": "code",
   "execution_count": 15,
   "id": "final-malpractice",
   "metadata": {},
   "outputs": [
    {
     "data": {
      "text/plain": [
       "119.48"
      ]
     },
     "execution_count": 15,
     "metadata": {},
     "output_type": "execute_result"
    }
   ],
   "source": [
    "longitude[-1]"
   ]
  },
  {
   "cell_type": "markdown",
   "id": "selective-polyester",
   "metadata": {},
   "source": [
    "Berbeda dengan indeks dari bagian awal yang dimulai dari 0, pada indeks dari akhir kita mulai dengan -1. Untuk mengecek apakah `longitude[41]` dan `longitude[-1]` sama kita dapat menggunakan:"
   ]
  },
  {
   "cell_type": "code",
   "execution_count": 16,
   "id": "divine-vaccine",
   "metadata": {
    "scrolled": true
   },
   "outputs": [
    {
     "data": {
      "text/plain": [
       "True"
      ]
     },
     "execution_count": 16,
     "metadata": {},
     "output_type": "execute_result"
    }
   ],
   "source": [
    "longitude[41] == longitude[-1]"
   ]
  },
  {
   "cell_type": "markdown",
   "id": "acute-north",
   "metadata": {},
   "source": [
    "Hasilnya akan `True` karena nilai keduanya sama, contoh yang lain:"
   ]
  },
  {
   "cell_type": "code",
   "execution_count": 17,
   "id": "embedded-military",
   "metadata": {},
   "outputs": [
    {
     "data": {
      "text/plain": [
       "True"
      ]
     },
     "execution_count": 17,
     "metadata": {},
     "output_type": "execute_result"
    }
   ],
   "source": [
    "longitude[40] == longitude[-2]"
   ]
  },
  {
   "cell_type": "markdown",
   "id": "mexican-joining",
   "metadata": {},
   "source": [
    "Hasilnya juga akan `True`."
   ]
  },
  {
   "cell_type": "markdown",
   "id": "threaded-frost",
   "metadata": {},
   "source": [
    "#### *Slicing* pada `List`\n",
    "Bagaimana bila yang akan kita panggil datanya berjumlah lebih dari satu? Misalkan kita akan mengambil 4 data pertama:"
   ]
  },
  {
   "cell_type": "code",
   "execution_count": 18,
   "id": "coral-sweet",
   "metadata": {},
   "outputs": [
    {
     "data": {
      "text/plain": [
       "[118.83, 118.8, 118.61, 118.8]"
      ]
     },
     "execution_count": 18,
     "metadata": {},
     "output_type": "execute_result"
    }
   ],
   "source": [
    "longitude_empat_awal = longitude[0:4]\n",
    "longitude_empat_awal"
   ]
  },
  {
   "cell_type": "markdown",
   "id": "understanding-celebration",
   "metadata": {},
   "source": [
    "Metode di atas sering kita kenal nanti sebagai metode `slicing`, metode ini juga berlaku untuk indeks yang dari belakang:"
   ]
  },
  {
   "cell_type": "code",
   "execution_count": 19,
   "id": "shaped-allocation",
   "metadata": {},
   "outputs": [
    {
     "data": {
      "text/plain": [
       "[118.93, 118.89, 118.92]"
      ]
     },
     "execution_count": 19,
     "metadata": {},
     "output_type": "execute_result"
    }
   ],
   "source": [
    "longitude_tiga_akhir = longitude[-4:-1]\n",
    "longitude_tiga_akhir"
   ]
  },
  {
   "cell_type": "markdown",
   "id": "conventional-horror",
   "metadata": {},
   "source": [
    "<div style=\"background-color: #dc3545 !important; color: white; min-height: 50px; padding: 10px; margin: auto;\">\n",
    "    <p style=\"text-align: right; font-style: italic; color: black\">Kuis Alert ⚠️⚠️</p>\n",
    "    <h1 style=\"color: white;\">Quiz Alert ⚠️⚠️: **Nama siapa saja yang akan muncul dengan `slicing` seperti di bawah?**</h1>\n",
    "</div>\n",
    "\n",
    "```python\n",
    "daftar_peserta = [\"Budi\", \"Joni\", \"Putri\", \"Indah\", \"Ade\", \"Rahma\"]\n",
    "kuis_slicing = daftar_peserta[1:-2]\n",
    "kuis_slicing\n",
    "```"
   ]
  },
  {
   "cell_type": "markdown",
   "id": "promising-commander",
   "metadata": {},
   "source": [
    "#### Mengedit `List`"
   ]
  },
  {
   "cell_type": "markdown",
   "id": "impressed-opening",
   "metadata": {},
   "source": [
    "Kita dapat menghapus, menambah, atau mengedit isi dari `List` yang kita punya, pada contoh mengedit `List` ini kita akan menggunakan `List` baru yang lebih pendek dan sederhana jadi untuk `List` dan data gempa kita simpan dan tidak ubah-ubah. Kasus ini adalah pendaftaran peserta untuk mengikuti workshop:"
   ]
  },
  {
   "cell_type": "code",
   "execution_count": 20,
   "id": "banned-marathon",
   "metadata": {},
   "outputs": [],
   "source": [
    "daftar_peserta = [\"Budi\", \"Joni\", \"Putri\", \"Indah\", \"Ade\", \"Rahma\"]"
   ]
  },
  {
   "cell_type": "markdown",
   "id": "challenging-circular",
   "metadata": {},
   "source": [
    "Ternyata ada peserta yang mendaftar terlambat yaitu Ari, untuk memasukkan Ari ke daftar peserta kita dapat menggunakan metode `append`."
   ]
  },
  {
   "cell_type": "code",
   "execution_count": 21,
   "id": "conscious-effort",
   "metadata": {},
   "outputs": [
    {
     "data": {
      "text/plain": [
       "['Budi', 'Joni', 'Putri', 'Indah', 'Ade', 'Rahma', 'Ari']"
      ]
     },
     "execution_count": 21,
     "metadata": {},
     "output_type": "execute_result"
    }
   ],
   "source": [
    "daftar_peserta.append(\"Ari\")\n",
    "daftar_peserta"
   ]
  },
  {
   "cell_type": "markdown",
   "id": "infrared-allowance",
   "metadata": {},
   "source": [
    "Ari sudah masuk menjadi peserta, walaupun datangnya terlambat sehingga dia duduk di indeks paling terakhir karena metode `append`. Ternyata ada lagi peserta yang belum tercatat yaitu Dina, karena Dina ternyata sudah mendaftar pertama kali tetapi lupa tercatat, panitia kemudian memasukkan Dina ke bangku nomor satu dengan metode `insert` pada indeks 0: "
   ]
  },
  {
   "cell_type": "code",
   "execution_count": 22,
   "id": "historic-concentrate",
   "metadata": {},
   "outputs": [
    {
     "data": {
      "text/plain": [
       "['Dina', 'Budi', 'Joni', 'Putri', 'Indah', 'Ade', 'Rahma', 'Ari']"
      ]
     },
     "execution_count": 22,
     "metadata": {},
     "output_type": "execute_result"
    }
   ],
   "source": [
    "daftar_peserta.insert(0,\"Dina\")\n",
    "daftar_peserta"
   ]
  },
  {
   "cell_type": "markdown",
   "id": "accessible-upset",
   "metadata": {},
   "source": [
    "Workshop kemudian selesai dan dilanjutkan dengan ujian, Joni ternyata yang paling cepat sehingga dia keluar kelas workshop terlebih dahulu. Untuk menghapus Joni dari daftar peserta:"
   ]
  },
  {
   "cell_type": "code",
   "execution_count": 23,
   "id": "wooden-liberal",
   "metadata": {
    "scrolled": true
   },
   "outputs": [
    {
     "data": {
      "text/plain": [
       "['Dina', 'Budi', 'Putri', 'Indah', 'Ade', 'Rahma', 'Ari']"
      ]
     },
     "execution_count": 23,
     "metadata": {},
     "output_type": "execute_result"
    }
   ],
   "source": [
    "daftar_peserta.remove(\"Joni\")\n",
    "daftar_peserta"
   ]
  },
  {
   "cell_type": "markdown",
   "id": "bulgarian-massachusetts",
   "metadata": {},
   "source": [
    "Bagaimana apabila mengganti langsung menggunakan indeks? Karena ternyata nama Budi bukan Budi tetapi Rudi:"
   ]
  },
  {
   "cell_type": "code",
   "execution_count": 24,
   "id": "proprietary-vatican",
   "metadata": {},
   "outputs": [
    {
     "data": {
      "text/plain": [
       "['Dina', 'Rudi', 'Putri', 'Indah', 'Ade', 'Rahma', 'Ari']"
      ]
     },
     "execution_count": 24,
     "metadata": {},
     "output_type": "execute_result"
    }
   ],
   "source": [
    "daftar_peserta[1] = \"Rudi\"\n",
    "daftar_peserta"
   ]
  },
  {
   "cell_type": "markdown",
   "id": "vocational-metallic",
   "metadata": {},
   "source": [
    "Masih banyak metode `List` lain yang dapat kita gunakan, secara lebih lengkap dapat dibuka di `help(list)`"
   ]
  },
  {
   "cell_type": "code",
   "execution_count": 25,
   "id": "compliant-rogers",
   "metadata": {},
   "outputs": [
    {
     "name": "stdout",
     "output_type": "stream",
     "text": [
      "Help on class list in module builtins:\n",
      "\n",
      "class list(object)\n",
      " |  list(iterable=(), /)\n",
      " |  \n",
      " |  Built-in mutable sequence.\n",
      " |  \n",
      " |  If no argument is given, the constructor creates a new empty list.\n",
      " |  The argument must be an iterable if specified.\n",
      " |  \n",
      " |  Methods defined here:\n",
      " |  \n",
      " |  __add__(self, value, /)\n",
      " |      Return self+value.\n",
      " |  \n",
      " |  __contains__(self, key, /)\n",
      " |      Return key in self.\n",
      " |  \n",
      " |  __delitem__(self, key, /)\n",
      " |      Delete self[key].\n",
      " |  \n",
      " |  __eq__(self, value, /)\n",
      " |      Return self==value.\n",
      " |  \n",
      " |  __ge__(self, value, /)\n",
      " |      Return self>=value.\n",
      " |  \n",
      " |  __getattribute__(self, name, /)\n",
      " |      Return getattr(self, name).\n",
      " |  \n",
      " |  __getitem__(...)\n",
      " |      x.__getitem__(y) <==> x[y]\n",
      " |  \n",
      " |  __gt__(self, value, /)\n",
      " |      Return self>value.\n",
      " |  \n",
      " |  __iadd__(self, value, /)\n",
      " |      Implement self+=value.\n",
      " |  \n",
      " |  __imul__(self, value, /)\n",
      " |      Implement self*=value.\n",
      " |  \n",
      " |  __init__(self, /, *args, **kwargs)\n",
      " |      Initialize self.  See help(type(self)) for accurate signature.\n",
      " |  \n",
      " |  __iter__(self, /)\n",
      " |      Implement iter(self).\n",
      " |  \n",
      " |  __le__(self, value, /)\n",
      " |      Return self<=value.\n",
      " |  \n",
      " |  __len__(self, /)\n",
      " |      Return len(self).\n",
      " |  \n",
      " |  __lt__(self, value, /)\n",
      " |      Return self<value.\n",
      " |  \n",
      " |  __mul__(self, value, /)\n",
      " |      Return self*value.\n",
      " |  \n",
      " |  __ne__(self, value, /)\n",
      " |      Return self!=value.\n",
      " |  \n",
      " |  __repr__(self, /)\n",
      " |      Return repr(self).\n",
      " |  \n",
      " |  __reversed__(self, /)\n",
      " |      Return a reverse iterator over the list.\n",
      " |  \n",
      " |  __rmul__(self, value, /)\n",
      " |      Return value*self.\n",
      " |  \n",
      " |  __setitem__(self, key, value, /)\n",
      " |      Set self[key] to value.\n",
      " |  \n",
      " |  __sizeof__(self, /)\n",
      " |      Return the size of the list in memory, in bytes.\n",
      " |  \n",
      " |  append(self, object, /)\n",
      " |      Append object to the end of the list.\n",
      " |  \n",
      " |  clear(self, /)\n",
      " |      Remove all items from list.\n",
      " |  \n",
      " |  copy(self, /)\n",
      " |      Return a shallow copy of the list.\n",
      " |  \n",
      " |  count(self, value, /)\n",
      " |      Return number of occurrences of value.\n",
      " |  \n",
      " |  extend(self, iterable, /)\n",
      " |      Extend list by appending elements from the iterable.\n",
      " |  \n",
      " |  index(self, value, start=0, stop=9223372036854775807, /)\n",
      " |      Return first index of value.\n",
      " |      \n",
      " |      Raises ValueError if the value is not present.\n",
      " |  \n",
      " |  insert(self, index, object, /)\n",
      " |      Insert object before index.\n",
      " |  \n",
      " |  pop(self, index=-1, /)\n",
      " |      Remove and return item at index (default last).\n",
      " |      \n",
      " |      Raises IndexError if list is empty or index is out of range.\n",
      " |  \n",
      " |  remove(self, value, /)\n",
      " |      Remove first occurrence of value.\n",
      " |      \n",
      " |      Raises ValueError if the value is not present.\n",
      " |  \n",
      " |  reverse(self, /)\n",
      " |      Reverse *IN PLACE*.\n",
      " |  \n",
      " |  sort(self, /, *, key=None, reverse=False)\n",
      " |      Sort the list in ascending order and return None.\n",
      " |      \n",
      " |      The sort is in-place (i.e. the list itself is modified) and stable (i.e. the\n",
      " |      order of two equal elements is maintained).\n",
      " |      \n",
      " |      If a key function is given, apply it once to each list item and sort them,\n",
      " |      ascending or descending, according to their function values.\n",
      " |      \n",
      " |      The reverse flag can be set to sort in descending order.\n",
      " |  \n",
      " |  ----------------------------------------------------------------------\n",
      " |  Static methods defined here:\n",
      " |  \n",
      " |  __new__(*args, **kwargs) from builtins.type\n",
      " |      Create and return a new object.  See help(type) for accurate signature.\n",
      " |  \n",
      " |  ----------------------------------------------------------------------\n",
      " |  Data and other attributes defined here:\n",
      " |  \n",
      " |  __hash__ = None\n",
      "\n"
     ]
    }
   ],
   "source": [
    "help(list)"
   ]
  },
  {
   "cell_type": "markdown",
   "id": "configured-authorization",
   "metadata": {},
   "source": [
    "### Tuple\n",
    "\n",
    "`Tuple` secara sederhana mirip sekali dengan `List` hanya saja penulisan menggunakan `()`, bukan `[]`, metode-metodenya hampir sama, hanya saja untuk `Tuple` ini data di dalamnya tidak dapat kita edit:"
   ]
  },
  {
   "cell_type": "code",
   "execution_count": 26,
   "id": "figured-turner",
   "metadata": {},
   "outputs": [],
   "source": [
    "daftar_nilai = (10,9,10,8,7,8)"
   ]
  },
  {
   "cell_type": "markdown",
   "id": "specialized-surge",
   "metadata": {},
   "source": [
    "Kita tidak bisa menambahkan nilai ke dalam sebuah `Tuple`:"
   ]
  },
  {
   "cell_type": "code",
   "execution_count": 27,
   "id": "tired-stable",
   "metadata": {},
   "outputs": [
    {
     "ename": "AttributeError",
     "evalue": "'tuple' object has no attribute 'append'",
     "output_type": "error",
     "traceback": [
      "\u001b[0;31m---------------------------------------------------------------------------\u001b[0m",
      "\u001b[0;31mAttributeError\u001b[0m                            Traceback (most recent call last)",
      "\u001b[0;32m<ipython-input-27-16031dfd785a>\u001b[0m in \u001b[0;36m<module>\u001b[0;34m\u001b[0m\n\u001b[0;32m----> 1\u001b[0;31m \u001b[0mdaftar_nilai\u001b[0m\u001b[0;34m.\u001b[0m\u001b[0mappend\u001b[0m\u001b[0;34m(\u001b[0m\u001b[0;36m10\u001b[0m\u001b[0;34m)\u001b[0m\u001b[0;34m\u001b[0m\u001b[0;34m\u001b[0m\u001b[0m\n\u001b[0m",
      "\u001b[0;31mAttributeError\u001b[0m: 'tuple' object has no attribute 'append'"
     ]
    }
   ],
   "source": [
    "daftar_nilai.append(10)"
   ]
  },
  {
   "cell_type": "markdown",
   "id": "polish-poster",
   "metadata": {},
   "source": [
    "Begitupula mengedit nilai yang ada dalam `Tuple` tersebut:"
   ]
  },
  {
   "cell_type": "code",
   "execution_count": 28,
   "id": "individual-pocket",
   "metadata": {
    "scrolled": true
   },
   "outputs": [
    {
     "ename": "TypeError",
     "evalue": "'tuple' object does not support item assignment",
     "output_type": "error",
     "traceback": [
      "\u001b[0;31m---------------------------------------------------------------------------\u001b[0m",
      "\u001b[0;31mTypeError\u001b[0m                                 Traceback (most recent call last)",
      "\u001b[0;32m<ipython-input-28-8c79f0f9bbfe>\u001b[0m in \u001b[0;36m<module>\u001b[0;34m\u001b[0m\n\u001b[0;32m----> 1\u001b[0;31m \u001b[0mdaftar_nilai\u001b[0m\u001b[0;34m[\u001b[0m\u001b[0;36m1\u001b[0m\u001b[0;34m]\u001b[0m\u001b[0;34m=\u001b[0m\u001b[0;36m10\u001b[0m\u001b[0;34m\u001b[0m\u001b[0;34m\u001b[0m\u001b[0m\n\u001b[0m",
      "\u001b[0;31mTypeError\u001b[0m: 'tuple' object does not support item assignment"
     ]
    }
   ],
   "source": [
    "daftar_nilai[1]=10"
   ]
  },
  {
   "cell_type": "markdown",
   "id": "removable-canadian",
   "metadata": {},
   "source": [
    "Fun fact: `String` memiliki sifat `Tuple`"
   ]
  },
  {
   "cell_type": "code",
   "execution_count": 29,
   "id": "level-stable",
   "metadata": {},
   "outputs": [
    {
     "data": {
      "text/plain": [
       "'R'"
      ]
     },
     "execution_count": 29,
     "metadata": {},
     "output_type": "execute_result"
    }
   ],
   "source": [
    "nama = \"Rudi\"\n",
    "nama[0]"
   ]
  },
  {
   "cell_type": "code",
   "execution_count": 30,
   "id": "veterinary-cartoon",
   "metadata": {},
   "outputs": [
    {
     "ename": "AttributeError",
     "evalue": "'str' object has no attribute 'append'",
     "output_type": "error",
     "traceback": [
      "\u001b[0;31m---------------------------------------------------------------------------\u001b[0m",
      "\u001b[0;31mAttributeError\u001b[0m                            Traceback (most recent call last)",
      "\u001b[0;32m<ipython-input-30-98dfe22a77cb>\u001b[0m in \u001b[0;36m<module>\u001b[0;34m\u001b[0m\n\u001b[0;32m----> 1\u001b[0;31m \u001b[0mnama\u001b[0m\u001b[0;34m.\u001b[0m\u001b[0mappend\u001b[0m\u001b[0;34m(\u001b[0m\u001b[0;34m\"s\"\u001b[0m\u001b[0;34m)\u001b[0m\u001b[0;34m\u001b[0m\u001b[0;34m\u001b[0m\u001b[0m\n\u001b[0m",
      "\u001b[0;31mAttributeError\u001b[0m: 'str' object has no attribute 'append'"
     ]
    }
   ],
   "source": [
    "nama.append(\"s\")"
   ]
  },
  {
   "cell_type": "code",
   "execution_count": 31,
   "id": "numerous-turner",
   "metadata": {
    "scrolled": true
   },
   "outputs": [
    {
     "ename": "TypeError",
     "evalue": "'str' object does not support item assignment",
     "output_type": "error",
     "traceback": [
      "\u001b[0;31m---------------------------------------------------------------------------\u001b[0m",
      "\u001b[0;31mTypeError\u001b[0m                                 Traceback (most recent call last)",
      "\u001b[0;32m<ipython-input-31-6641f089f4ff>\u001b[0m in \u001b[0;36m<module>\u001b[0;34m\u001b[0m\n\u001b[0;32m----> 1\u001b[0;31m \u001b[0mnama\u001b[0m\u001b[0;34m[\u001b[0m\u001b[0;36m0\u001b[0m\u001b[0;34m]\u001b[0m \u001b[0;34m=\u001b[0m \u001b[0;34m\"B\"\u001b[0m\u001b[0;34m\u001b[0m\u001b[0;34m\u001b[0m\u001b[0m\n\u001b[0m",
      "\u001b[0;31mTypeError\u001b[0m: 'str' object does not support item assignment"
     ]
    }
   ],
   "source": [
    "nama[0] = \"B\""
   ]
  },
  {
   "cell_type": "markdown",
   "id": "contrary-wrist",
   "metadata": {},
   "source": [
    "## *Looping*"
   ]
  },
  {
   "cell_type": "markdown",
   "id": "introductory-working",
   "metadata": {},
   "source": [
    "Proses *looping* merupakan proses mengulang-ngulang sebuah proses sampai kondisi tertentu tercapai. Pada Python terdapat dua jenis *looping* yaitu `for` dan `while`. `for` akan melakukan *looping* dengan sampai pada batas jumlah *looping* atau sampai pada syarat tertentu yang sudah tercapai sedangkan `while` akan terus berjalan saat syaratnya masih terpenuhi. Sebelum kita menggunakan `for` untuk mengkonversi `String` pada kolom `time` menjadi data berjenis `datetime.datetime`, kita bermain dengan `list` yang lebih sederhana dahulu:"
   ]
  },
  {
   "cell_type": "code",
   "execution_count": 32,
   "id": "proprietary-palestinian",
   "metadata": {},
   "outputs": [
    {
     "name": "stdout",
     "output_type": "stream",
     "text": [
      "Nama:  Dina\n",
      "Nama:  Rudi\n",
      "Nama:  Putri\n",
      "Nama:  Indah\n",
      "Nama:  Ade\n",
      "Nama:  Rahma\n",
      "Nama:  Ari\n"
     ]
    }
   ],
   "source": [
    "for peserta in daftar_peserta:\n",
    "    print(\"Nama: \", peserta)"
   ]
  },
  {
   "cell_type": "markdown",
   "id": "saved-medicaid",
   "metadata": {},
   "source": [
    "Pada contoh di atas, kita dapat membaca kode seperti ini: untuk setiap peserta di daftar peserta, kita cetak nama peserta didahului dengan tulisan \"Nama: \", looping akan berjalan mulai dari Dina, sehingga tulisan \"Nama: Dina\" akan tercetak pertama kali, dilanjutkan dengan Rudi, dan yang terakhir adalah Ari."
   ]
  },
  {
   "cell_type": "code",
   "execution_count": 33,
   "id": "exotic-anderson",
   "metadata": {},
   "outputs": [
    {
     "name": "stdout",
     "output_type": "stream",
     "text": [
      "Dina  lulus\n",
      "Rudi  lulus\n",
      "Putri  lulus\n",
      "Indah  lulus\n",
      "Ade  lulus\n",
      "Rahma  lulus\n",
      "Ari  lulus\n"
     ]
    }
   ],
   "source": [
    "for peserta in daftar_peserta:\n",
    "    print(peserta, \" lulus\")"
   ]
  },
  {
   "cell_type": "markdown",
   "id": "physical-american",
   "metadata": {},
   "source": [
    "Kita juga dapat bermain dengan `List` yang berisi angka, misalnya pada contoh ini kita akan menambahkan setiap nilai pada daftar nilai dengan 1:"
   ]
  },
  {
   "cell_type": "code",
   "execution_count": 34,
   "id": "forbidden-glucose",
   "metadata": {
    "scrolled": true
   },
   "outputs": [
    {
     "name": "stdout",
     "output_type": "stream",
     "text": [
      "Nilai=  (10, 9, 10, 8, 7, 8)\n",
      "nilai+1=  11\n",
      "nilai+1=  10\n",
      "nilai+1=  11\n",
      "nilai+1=  9\n",
      "nilai+1=  8\n",
      "nilai+1=  9\n"
     ]
    }
   ],
   "source": [
    "print(\"Nilai= \", daftar_nilai)\n",
    "\n",
    "for nilai in daftar_nilai:\n",
    "    print(\"nilai+1= \",nilai+1)"
   ]
  },
  {
   "cell_type": "markdown",
   "id": "assigned-submission",
   "metadata": {},
   "source": [
    "Contoh di bawah ini kita memanfaatkan metode `append` untuk membuat daftar nilai baru yang sudah ditambah dengan 1. Karena `for` loop mengevaluasi setiap `nilai` dalam `daftar_nilai` maka untuk setiap `nilai`, `daftar_nilai_tambah_satu` akan di`append` dengan `nilai+1`, sehingga hasilnya adalah `List` baru yang isinya nilai awal ditambah satu:"
   ]
  },
  {
   "cell_type": "code",
   "execution_count": 35,
   "id": "other-billion",
   "metadata": {},
   "outputs": [
    {
     "name": "stdout",
     "output_type": "stream",
     "text": [
      "Nilai asli=  (10, 9, 10, 8, 7, 8)\n",
      "Nilai+1 =  [11, 10, 11, 9, 8, 9]\n"
     ]
    }
   ],
   "source": [
    "daftar_nilai_tambah_satu = []\n",
    "for nilai in daftar_nilai:\n",
    "    daftar_nilai_tambah_satu.append(nilai+1)\n",
    "    \n",
    "print(\"Nilai asli= \", daftar_nilai)\n",
    "print(\"Nilai+1 = \", daftar_nilai_tambah_satu)"
   ]
  },
  {
   "cell_type": "markdown",
   "id": "functioning-holly",
   "metadata": {},
   "source": [
    "Kita kembali ke data katalog gempabumi yang sudah kita baca menggunakan `pd.read_csv` tadi. Pada `data` kita mendapatkan satu kolom yang menunjukkan waktu yaitu kolom `time`, saat kita lihat tipe datanya tadi kolom ini masih berupa `Object` secara umum, dan mengarah ke jenis data `String`. Python memiliki jenis data khusus untuk menunjukkan waktu yaitu salah satunya adalah `datetime.datetime`. Dengan demikian kolom `time` harus kita konversi ke dalam tipe `datetime.datetime`. Proses konversi ini dapat dilakukan menggunakan modul `datetime` yang merupakan bawaan dari Python. "
   ]
  },
  {
   "cell_type": "code",
   "execution_count": 36,
   "id": "muslim-fortune",
   "metadata": {},
   "outputs": [
    {
     "name": "stdout",
     "output_type": "stream",
     "text": [
      "time_pertama 2021-01-27T18:43:24.965Z\n",
      "tipe data <class 'str'>\n"
     ]
    }
   ],
   "source": [
    "list_time = list(data['time'])\n",
    "time_pertama = list_time[0]\n",
    "print(\"time_pertama\", time_pertama)\n",
    "print(\"tipe data\",type(time_pertama))"
   ]
  },
  {
   "cell_type": "markdown",
   "id": "cross-gender",
   "metadata": {},
   "source": [
    "Kita dapatkan hasil bahwa untuk waktu pertama tipe datanya adalah masih berupa `String` yang ditunjukkan dengan tulisan `String`. Agar data waktu dapat diolah kita dapat mengubah ke format `datetime.datetime` dengan:\n",
    "\n",
    "```python\n",
    "datetime.datetime.strptime()\n",
    "```\n",
    "\n",
    "Sebelumnya kita lihat dulu fungsi `help` untuk `datetime.datetime.strptime()`:"
   ]
  },
  {
   "cell_type": "code",
   "execution_count": 37,
   "id": "pleasant-trash",
   "metadata": {},
   "outputs": [
    {
     "name": "stdout",
     "output_type": "stream",
     "text": [
      "Help on built-in function strptime:\n",
      "\n",
      "strptime(...) method of builtins.type instance\n",
      "    string, format -> new datetime parsed from a string (like time.strptime()).\n",
      "\n"
     ]
    }
   ],
   "source": [
    "import datetime\n",
    "help(datetime.datetime.strptime)"
   ]
  },
  {
   "cell_type": "markdown",
   "id": "framed-marina",
   "metadata": {},
   "source": [
    "Ternyata fungsi ini merupakan turunan dari `time.strptime` sehingga untuk melihat petunjukanya kita dapat menggunakan:"
   ]
  },
  {
   "cell_type": "code",
   "execution_count": 38,
   "id": "tamil-agent",
   "metadata": {},
   "outputs": [
    {
     "name": "stdout",
     "output_type": "stream",
     "text": [
      "Help on built-in function strptime in module time:\n",
      "\n",
      "strptime(...)\n",
      "    strptime(string, format) -> struct_time\n",
      "    \n",
      "    Parse a string to a time tuple according to a format specification.\n",
      "    See the library reference manual for formatting codes (same as\n",
      "    strftime()).\n",
      "    \n",
      "    Commonly used format codes:\n",
      "    \n",
      "    %Y  Year with century as a decimal number.\n",
      "    %m  Month as a decimal number [01,12].\n",
      "    %d  Day of the month as a decimal number [01,31].\n",
      "    %H  Hour (24-hour clock) as a decimal number [00,23].\n",
      "    %M  Minute as a decimal number [00,59].\n",
      "    %S  Second as a decimal number [00,61].\n",
      "    %z  Time zone offset from UTC.\n",
      "    %a  Locale's abbreviated weekday name.\n",
      "    %A  Locale's full weekday name.\n",
      "    %b  Locale's abbreviated month name.\n",
      "    %B  Locale's full month name.\n",
      "    %c  Locale's appropriate date and time representation.\n",
      "    %I  Hour (12-hour clock) as a decimal number [01,12].\n",
      "    %p  Locale's equivalent of either AM or PM.\n",
      "    \n",
      "    Other codes may be available on your platform.  See documentation for\n",
      "    the C library strftime function.\n",
      "\n"
     ]
    }
   ],
   "source": [
    "import time\n",
    "help(time.strptime)"
   ]
  },
  {
   "cell_type": "markdown",
   "id": "whole-typing",
   "metadata": {},
   "source": [
    "Berdasarkan petunjuk di atas kita harus memasukkan `String` kita yaitu `time_pertama` sebagai argumen pertama kemudian diikuti format dari penulisan waktu kita. Waktu kita ditulis dengan menggunakan `2021-01-27T18:43:24.965Z` sehingga menurut pentujuk di atas kita akan menuliskan format `'%Y-%m-%dT%H:%M:%S.%fZ'` sehingga kode untuk konversi menjadi:"
   ]
  },
  {
   "cell_type": "code",
   "execution_count": 39,
   "id": "wrapped-shakespeare",
   "metadata": {},
   "outputs": [],
   "source": [
    "time_pertama_dt = datetime.datetime.strptime(time_pertama, '%Y-%m-%dT%H:%M:%S.%fZ')"
   ]
  },
  {
   "cell_type": "code",
   "execution_count": 40,
   "id": "novel-ottawa",
   "metadata": {},
   "outputs": [
    {
     "name": "stdout",
     "output_type": "stream",
     "text": [
      "time_pertama 2021-01-27T18:43:24.965Z\n",
      "time_pertama_dt 2021-01-27 18:43:24.965000\n"
     ]
    }
   ],
   "source": [
    "print(\"time_pertama\", time_pertama)\n",
    "print(\"time_pertama_dt\", time_pertama_dt)"
   ]
  },
  {
   "cell_type": "markdown",
   "id": "comparable-seattle",
   "metadata": {},
   "source": [
    "Dari hasil di atas sekilas nampak sama, mari kita lihat tipe masing-masing, baik yang sebelum dikonversi dengan yang sudah dikonversi:"
   ]
  },
  {
   "cell_type": "code",
   "execution_count": 41,
   "id": "outside-novel",
   "metadata": {},
   "outputs": [
    {
     "name": "stdout",
     "output_type": "stream",
     "text": [
      "tipe data time_pertama <class 'str'>\n",
      "tipe data time_pertama_dt <class 'datetime.datetime'>\n"
     ]
    }
   ],
   "source": [
    "print(\"tipe data time_pertama\", type(time_pertama))\n",
    "print(\"tipe data time_pertama_dt\", type(time_pertama_dt))"
   ]
  },
  {
   "cell_type": "markdown",
   "id": "gentle-sellers",
   "metadata": {},
   "source": [
    "Dengan fungsi `type` dapat dilihat dengan jelas bahwa untuk format yang sudah dikonversi berubah menjadi `datetime.datetime` sesuai dengan salah satu standar format data berjenis waktu pada Python."
   ]
  },
  {
   "cell_type": "markdown",
   "id": "dynamic-geography",
   "metadata": {},
   "source": [
    "Selanjutnya kita akan mengaplikasikan `for` loop untuk mengonversi semua data dalam `List` `list_time` agar tidak perlu melakukannya satu per satu."
   ]
  },
  {
   "cell_type": "code",
   "execution_count": 42,
   "id": "antique-potato",
   "metadata": {},
   "outputs": [],
   "source": [
    "list_time_dalam_datetime = []\n",
    "for time in list_time:\n",
    "    time_terkonversi = datetime.datetime.strptime(time, '%Y-%m-%dT%H:%M:%S.%fZ')\n",
    "    list_time_dalam_datetime.append(time_terkonversi)"
   ]
  },
  {
   "cell_type": "markdown",
   "id": "skilled-cartridge",
   "metadata": {},
   "source": [
    "**Looping** di atas di awali dengan membuat `List` kosong yang nantinya akan diisi dengan waktu yang sudah dikonversi menjadi format `datetime.datetime`. Proses looping pertama yaitu untuk data pertama pada `list_time`, data ini kemudian akan dikonversi menggunakan fungsi `datetime.datetime.strptime` yang tadi sudah kita coba untuk waktu pertama. Setelah dikonversi, waktu terkonversi akan dimasukkan ke dalam `List` `list_time_dalam_datetime` menggunakan metode `append`. Proses konversi dan `append` ini diulang sampai semua data pada `list_time` terkonversi dan masuk dalam `list_time_dalam_datetime`. Pengecekean kita lakukan dengan memanggil `list_time_dalam_datetime`."
   ]
  },
  {
   "cell_type": "code",
   "execution_count": 43,
   "id": "british-import",
   "metadata": {
    "scrolled": true
   },
   "outputs": [
    {
     "data": {
      "text/plain": [
       "[datetime.datetime(2021, 1, 27, 18, 43, 24, 965000),\n",
       " datetime.datetime(2021, 1, 25, 16, 4, 16, 363000),\n",
       " datetime.datetime(2021, 1, 24, 20, 52, 8, 70000),\n",
       " datetime.datetime(2021, 1, 24, 16, 52, 55, 221000),\n",
       " datetime.datetime(2021, 1, 24, 2, 38, 50, 171000)]"
      ]
     },
     "execution_count": 43,
     "metadata": {},
     "output_type": "execute_result"
    }
   ],
   "source": [
    "list_time_dalam_datetime[:5]"
   ]
  },
  {
   "cell_type": "markdown",
   "id": "wired-narrative",
   "metadata": {},
   "source": [
    "List di atas semua anggotanya sudah dalam bentuk `datetime.datetime`."
   ]
  },
  {
   "cell_type": "markdown",
   "id": "tribal-alarm",
   "metadata": {},
   "source": [
    "Setelah terkonversi kita sudah dapat menggunakan kolom waktu ini untuk analisisnya, contohnya untuk mengeplot setiap waktu kejadiandan berapa magnitudonya, plot ini hanya preview dan akan dijelaskan di bagian belakang secara lebih mendetail:"
   ]
  },
  {
   "cell_type": "code",
   "execution_count": 44,
   "id": "changing-helmet",
   "metadata": {
    "scrolled": false
   },
   "outputs": [
    {
     "data": {
      "image/png": "[encoded data removed]",
      "text/plain": [
       "<Figure size 432x288 with 1 Axes>"
      ]
     },
     "metadata": {
      "needs_background": "light"
     },
     "output_type": "display_data"
    }
   ],
   "source": [
    "import matplotlib.pyplot as plt\n",
    "import matplotlib.dates as mdates\n",
    "\n",
    "# mendefinisikan list waktu dan magnitudo\n",
    "waktu = list_time_dalam_datetime\n",
    "magnitudo = list(data['magnitude'])\n",
    "\n",
    "# membuat plot\n",
    "fig, ax = plt.subplots()\n",
    "ax.scatter(waktu, magnitudo, color=\"blue\")\n",
    "ax.set_title(\"Grafik Magnitudo terhadap Waktu Kejadian \\nGempa Mamuju\")\n",
    "ax.set_xlabel(\"Waktu\")\n",
    "ax.set_ylabel(\"Magnitudo (M)\")\n",
    "ax.xaxis.set_major_formatter(mdates.DateFormatter(\"%Y-%m-%d\"))\n",
    "plt.xticks(rotation=65)\n",
    "plt.grid()\n"
   ]
  },
  {
   "cell_type": "markdown",
   "id": "interstate-senator",
   "metadata": {},
   "source": [
    "Bandingkan dengan plot **SALAH** di bawah ini, karena `String` pada waktu belum dikonversi ke dalam `datetime.datetime`."
   ]
  },
  {
   "cell_type": "code",
   "execution_count": 45,
   "id": "close-chest",
   "metadata": {},
   "outputs": [
    {
     "data": {
      "image/png": "[encoded data removed]",
      "text/plain": [
       "<Figure size 432x288 with 1 Axes>"
      ]
     },
     "metadata": {
      "needs_background": "light"
     },
     "output_type": "display_data"
    }
   ],
   "source": [
    "import matplotlib.pyplot as plt\n",
    "import matplotlib.dates as mdates\n",
    "\n",
    "waktu = list_time\n",
    "magnitudo = list(data['magnitude'])\n",
    "\n",
    "fig, ax = plt.subplots()\n",
    "ax.scatter(waktu, magnitudo, color=\"blue\")\n",
    "ax.set_title(\"Plot SALAH karena waktu masih String\")\n",
    "ax.set_xlabel(\"Waktu\")\n",
    "ax.set_ylabel(\"Magnitudo (M)\")\n",
    "ax.xaxis.set_major_formatter(mdates.DateFormatter(\"%Y-%m-%d\"))\n",
    "plt.xticks(rotation=65)\n",
    "plt.grid()\n"
   ]
  },
  {
   "cell_type": "markdown",
   "id": "narrow-release",
   "metadata": {},
   "source": [
    "## *Conditional*\n",
    "\n",
    "*Conditional* merupakan susunan dari pernyataan-pernyataan jika yang digunakan untuk menentukan keputusan/*decision making*. Pada Python algoritma *conditional* biasanya dituliskan menggunakan `if` untuk level pertama, dilanjutkan `elif` untuk level berikutnya, dan untuk level terakhir menggunakankan pernyataan `else`. Mungkin akan lebih mudah apabila dijelaskan dalam bentuk kode:"
   ]
  },
  {
   "cell_type": "code",
   "execution_count": 46,
   "id": "cordless-tulsa",
   "metadata": {},
   "outputs": [
    {
     "name": "stdout",
     "output_type": "stream",
     "text": [
      "Masukkan angka nilai anda: 55\n",
      "Nilai anda C\n"
     ]
    }
   ],
   "source": [
    "nilai = float(input(\"Masukkan angka nilai anda: \"))\n",
    "\n",
    "if nilai < 50:\n",
    "    print(\"Nilai anda\", \"D\")\n",
    "elif nilai <60:\n",
    "    print(\"Nilai anda\", \"C\")\n",
    "elif nilai <70:\n",
    "    print(\"Nilai anda\", \"B\")\n",
    "else:\n",
    "    print(\"Nilai anda\", \"A\")"
   ]
  },
  {
   "cell_type": "markdown",
   "id": "introductory-windsor",
   "metadata": {},
   "source": [
    "Pada contoh di atas apabila kita memasukkan nilai 55 maka yang pertama kali dicek adalah kondisional paling atas yaitu `if nilai <50`, karena nilai lebih besar daripada 50 maka ekspresi akan dilanjutkan ke kondisional kedua yaitu `elif nilai <60`, dimana pada fase kedua ini sudah cocok karena nilai 55 berada di bawah 60 sehingga akan keluar `Nilai anda C`. Contoh dibawah ini adalah untuk kasus nilai 45: "
   ]
  },
  {
   "cell_type": "code",
   "execution_count": 47,
   "id": "removed-democrat",
   "metadata": {},
   "outputs": [
    {
     "name": "stdout",
     "output_type": "stream",
     "text": [
      "Masukkan angka nilai anda: 45\n",
      "Nilai anda D\n"
     ]
    }
   ],
   "source": [
    "nilai = float(input(\"Masukkan angka nilai anda: \"))\n",
    "\n",
    "if nilai < 50:\n",
    "    print(\"Nilai anda\", \"D\")\n",
    "elif nilai <60:\n",
    "    print(\"Nilai anda\", \"C\")\n",
    "elif nilai <70:\n",
    "    print(\"Nilai anda\", \"B\")\n",
    "else:\n",
    "    print(\"Nilai anda\", \"A\")"
   ]
  },
  {
   "cell_type": "markdown",
   "id": "internal-mercy",
   "metadata": {},
   "source": [
    "Pada nilai 45 proses sudah langsung terhenti di level 1 (`if nilai < 50`) sehingga proses akan selesai dan keluar hasil cetakan berupa `Nilai anda D`. Kondisional ini dapat berlevel dan dapat pula menggunakan ekspresi `and` untuk \"dan\" dan `or` untuk `atau`. Seperti contoh di bawah ini:"
   ]
  },
  {
   "cell_type": "code",
   "execution_count": 48,
   "id": "special-expression",
   "metadata": {},
   "outputs": [
    {
     "name": "stdout",
     "output_type": "stream",
     "text": [
      "Masukkan angka nilai anda: 60\n",
      "Nilai anda berada di antara 50 dan 70\n"
     ]
    }
   ],
   "source": [
    "nilai = float(input(\"Masukkan angka nilai anda: \"))\n",
    "\n",
    "if nilai>50 and nilai <70:\n",
    "    print(\"Nilai anda berada di antara 50 dan 70\")\n",
    "elif nilai<50 or nilai>70:\n",
    "    print(\"Nilai anda bisa jadi lebih rendah dari 50\\\n",
    "    atau lebih tinggi dari 70\")"
   ]
  },
  {
   "cell_type": "markdown",
   "id": "laughing-bunny",
   "metadata": {},
   "source": [
    "Pada contoh di atas apabila kita memasukkan nilai 60, Python akan mencetak `Nilai anda berada di antara 50 dan 70` karena angka 60 lebih besar dari 50 (`nilai>50`) dan (`and`) lebih rendah dari 70 (`nilai<70`). Berbeda apabila kita memasukkan angka 45, apa yang akan terjadi?\n",
    "\n",
    "### Memfilter data Katalog Menggunakan *Conditional*\n",
    "\n",
    "*Conditional* akan kita gunakan untuk memfilter katalog berdasarkan beberapa syarat, seperti syarat waktu kejadian, syarat kedalaman, syarat magnitudo, ataupun syarat lokasi horizontal. Sebelum melakukan filter data katalog, kita akan mengumpulkan terlebih dahulu kolom-kolom data katalog kita."
   ]
  },
  {
   "cell_type": "code",
   "execution_count": 49,
   "id": "advisory-artwork",
   "metadata": {},
   "outputs": [],
   "source": [
    "kolom_waktu = list_time_dalam_datetime\n",
    "kolom_latitude = list(data['latitude'])\n",
    "kolom_longitude = list(data['longitude'])\n",
    "kolom_kedalaman = list(data['depth'])\n",
    "kolom_magnitudo = list(data['magnitude'])"
   ]
  },
  {
   "cell_type": "markdown",
   "id": "musical-heating",
   "metadata": {},
   "source": [
    "Kolom-kolom yang sudah kitakumpulkan akan kita satukan dalam bentuk data baru yaitu `dictionary`. `dictionary` merupakan kumpulan data dengan masing-masing pasangan `key` dan `value`, jika diibaratkan dengan sebuah tabel maka `key` adalah judul kolom dan `value` adalah isi dari kolom tersebut. `dictionary` ini akan kita gunakan untuk menggabungkan kembali kolom-kolom yang sudah terpisah. Pembuatan `dictionary` dalam Python ada beberap cara, pada cara ini kita akan menggunakan fungsi `dict`."
   ]
  },
  {
   "cell_type": "code",
   "execution_count": null,
   "id": "falling-perfume",
   "metadata": {
    "scrolled": true
   },
   "outputs": [],
   "source": [
    "katalog_dict = dict(waktu=kolom_waktu,\n",
    "                    latitude=kolom_latitude,\n",
    "                    longitude=kolom_longitude,\n",
    "                    kedalaman=kolom_kedalaman,\n",
    "                    magnitudo=kolom_magnitudo)\n",
    "\n",
    "katalog_dict"
   ]
  },
  {
   "cell_type": "markdown",
   "id": "marine-affairs",
   "metadata": {},
   "source": [
    "Pada fungsi `dict` di atas kita memberikan masing-masing judul kolom yang kemudian diikuti nilai-nilai untuk kolom tersebut. Salah satu contohnya yaitu untuk judul `waktu` diikuti dengan `kolom_waktu`. Kolom-kolom yang sebelumnya terpisah dan dalam bentuk struktur data `List` kini sudah tergabung dalam satu kesatuan berbentuk `dictionary`. Untuk mengakses kolom pada `dictionary` kita dapat menggunakan cara yang sama ketika mengakses kolom pada `DataFrame` hasil pembacaan `pandas`. Hanya saja pada `dictionary` ini hasil pembacaan kolom akan langsung berbentuk `List`, tanpa dikonversi dengan fungsi `list`."
   ]
  },
  {
   "cell_type": "code",
   "execution_count": 51,
   "id": "brazilian-february",
   "metadata": {
    "scrolled": true
   },
   "outputs": [
    {
     "data": {
      "text/plain": [
       "[datetime.datetime(2021, 1, 27, 18, 43, 24, 965000),\n",
       " datetime.datetime(2021, 1, 25, 16, 4, 16, 363000),\n",
       " datetime.datetime(2021, 1, 24, 20, 52, 8, 70000),\n",
       " datetime.datetime(2021, 1, 24, 16, 52, 55, 221000),\n",
       " datetime.datetime(2021, 1, 24, 2, 38, 50, 171000)]"
      ]
     },
     "execution_count": 51,
     "metadata": {},
     "output_type": "execute_result"
    }
   ],
   "source": [
    "katalog_dict['waktu'][:5]"
   ]
  },
  {
   "cell_type": "code",
   "execution_count": 52,
   "id": "invisible-english",
   "metadata": {},
   "outputs": [
    {
     "data": {
      "text/plain": [
       "dict_keys(['waktu', 'latitude', 'longitude', 'kedalaman', 'magnitudo'])"
      ]
     },
     "execution_count": 52,
     "metadata": {},
     "output_type": "execute_result"
    }
   ],
   "source": [
    "katalog_dict.keys()"
   ]
  },
  {
   "cell_type": "markdown",
   "id": "favorite-order",
   "metadata": {},
   "source": [
    "Pada contoh di bawah ini kita akan memisahkan lagi `dictionary` menjadi kolom-kolom kemudian memanfaatkan `zip` untuk melakukan *looping* for secara paralel untuk semua kolom data katalog kita."
   ]
  },
  {
   "cell_type": "code",
   "execution_count": 53,
   "id": "terminal-ground",
   "metadata": {},
   "outputs": [],
   "source": [
    "tanggal_awal = datetime.datetime(2021,1,14) # 12 Januari 2021\n",
    "tanggal_akhir = datetime.datetime(2021,1,15) # 14 Januari 2021\n",
    "\n",
    "#katalog hasil_filter\n",
    "waktu_hasil_filter = []\n",
    "longitude_hasil_filter = []\n",
    "latitude_hasil_filter = []\n",
    "kedalaman_hasil_filter = []\n",
    "magnitudo_hasil_filter = []\n",
    "\n",
    "\n",
    "# memisah masing-masing kolom lagi\n",
    "waktu = katalog_dict['waktu']\n",
    "latitude = katalog_dict['latitude']\n",
    "longitude = katalog_dict['longitude']\n",
    "kedalaman = katalog_dict['kedalaman']\n",
    "magnitudo = katalog_dict['magnitudo']\n",
    "\n",
    "# mengumpulkan kolom menjadi satu `zip`\n",
    "katalog = zip(waktu, latitude, longitude, kedalaman, magnitudo)\n",
    "\n",
    "for t,lat,lon,ked,mag in katalog:\n",
    "    # jika waktu lebih dari tanggal awal dan kurang dari tanggal akhir\n",
    "    if t>tanggal_awal and t<tanggal_akhir:\n",
    "        waktu_hasil_filter.append(t)\n",
    "        longitude_hasil_filter.append(lon)\n",
    "        latitude_hasil_filter.append(lat)\n",
    "        kedalaman_hasil_filter.append(ked)\n",
    "        magnitudo_hasil_filter.append(mag)\n",
    "        "
   ]
  },
  {
   "cell_type": "markdown",
   "id": "competent-officer",
   "metadata": {},
   "source": [
    "Jumlah data awal dibandingkan dengan data hasil filter adalah:"
   ]
  },
  {
   "cell_type": "code",
   "execution_count": 54,
   "id": "opposite-valuation",
   "metadata": {},
   "outputs": [
    {
     "name": "stdout",
     "output_type": "stream",
     "text": [
      "Semua data 42\n",
      "Data hasil_filter 21\n"
     ]
    }
   ],
   "source": [
    "print(\"Semua data\",len(waktu))\n",
    "print(\"Data hasil_filter\",len(waktu_hasil_filter))"
   ]
  },
  {
   "cell_type": "markdown",
   "id": "subjective-terror",
   "metadata": {},
   "source": [
    "Untuk memberikan gambaran hasil filter kita akan mengeplotkan katalog asli dengan katalog yang sudah difilter kita akan mengeplotnya."
   ]
  },
  {
   "cell_type": "code",
   "execution_count": 55,
   "id": "lonely-lambda",
   "metadata": {},
   "outputs": [
    {
     "data": {
      "image/png": "[encoded data removed]",
      "text/plain": [
       "<Figure size 432x288 with 1 Axes>"
      ]
     },
     "metadata": {
      "needs_background": "light"
     },
     "output_type": "display_data"
    }
   ],
   "source": [
    "import matplotlib.pyplot as plt\n",
    "import matplotlib.dates as mdates\n",
    "\n",
    "# mendefinisikan list waktu dan magnitudo\n",
    "waktu_hasil_filter = waktu_hasil_filter\n",
    "magnitudo_hasil_filter = magnitudo_hasil_filter\n",
    "\n",
    "# membuat plot\n",
    "fig, ax = plt.subplots()\n",
    "ax.scatter(waktu, magnitudo, color=\"blue\", label=\"asli\")\n",
    "ax.scatter(waktu_hasil_filter, magnitudo_hasil_filter, color=\"orange\", label=\"hasil_filter\")\n",
    "ax.set_title(\"Grafik Magnitudo terhadap Waktu Kejadian \\nGempa Mamuju\")\n",
    "ax.set_xlabel(\"Waktu\")\n",
    "ax.set_ylabel(\"Magnitudo (M)\")\n",
    "ax.xaxis.set_major_formatter(mdates.DateFormatter(\"%Y-%m-%d\"))\n",
    "ax.axvline(x=tanggal_awal, linestyle=\"--\", color=\"grey\")\n",
    "ax.axvline(x=tanggal_akhir, linestyle=\"--\", color=\"grey\")\n",
    "plt.xticks(rotation=65)\n",
    "plt.legend()\n",
    "plt.grid()\n"
   ]
  },
  {
   "cell_type": "markdown",
   "id": "lesser-butter",
   "metadata": {},
   "source": [
    "## Fungsi dan Modul\n",
    "\n",
    "Fungsi merupakan kumpulan kode dengan tujuan tertentu yang dapat dipanggil saat akan digunakan. Kode dalam sebuah fungsi akan disesuaikan dengan tujuan dibuatnya fungsi tersebut. Fungsi-fungsi dipecah menjadi bagian-bagian kecil untuk mempermudah penulisan kode, pemanggilan, *debugging*, dan *maintenance*, kebiasaan ini sering disebut sebagai *refactoring*. berikut ini adalah contoh fungsi dengan tujuan spesifik yaitu untuk menghitung volume kubus."
   ]
  },
  {
   "cell_type": "code",
   "execution_count": 56,
   "id": "super-lesson",
   "metadata": {},
   "outputs": [],
   "source": [
    "def volume_kubus(panjang_sisi):\n",
    "    \"\"\"Fungsi untuk menghitung volume kubus\n",
    "    \n",
    "    Parameters:\n",
    "    panjang_sisi : float\n",
    "        Panjang sisi kubus\n",
    "        \n",
    "    Returns:\n",
    "    volume : float\n",
    "        Volume kubus\n",
    "    \"\"\"\n",
    "    volume = float(panjang_sisi)**3\n",
    "    return volume"
   ]
  },
  {
   "cell_type": "markdown",
   "id": "stuffed-dialogue",
   "metadata": {},
   "source": [
    "Penulisan fungsi diawali dengan sintaks `def` yang diikuti dengan nama fungsi, setelah nama fungsi kemudian ada `argument` didalam tanda kurung yang harus kita isikan nilainya ketika memanggil fungsi tersebut. Perhitungan kemudian diletakkan di baris bawah pendefinisian fungsi dengan diberikan satu kali indentasi. Di akhir setiap fungsi biasanya akan ada sintaks `return` yang diikuti variabel apa yang akan dikembalikan atau dihasilkan dari menjalankan fungsi tersebut. Tidak semua fungsi harus mengembalikan sebuah hasil. \n",
    "\n",
    "Pada fungsi volume kubus di atas nama fungsinya adalah `volume_kubus` dengan parameter atau argumen yang harus diisi adalah `panjang_sisi`. `volume` kemudian akan dihitung dengan menggunakan rumus `float(panjang_sisi)**3` sebelum akhrinya dikembalikan atau dikeluarkan hasilnya oleh `return`. Fungsi di atas menjadi terlihat begitu panjang karena terdapat `docstring` yang diapit oleh `'''` yang merupakan manual penggunaan fungsi tersebut. `docstring` atau string dokumentasi ini berguna sebagai petunjuk bagi pengguna serta penulis kode, apabila akan melakukan *maintenance* atau update. `docstring` yang ditunjukkan disini adalah `docstring` dengan format penulisan mengikuti gaya `numpy`. Dengan adanya `docstring` maka kita dapat memanggil fungsi `help` yang akan menunjukkan `docstring` tersebut."
   ]
  },
  {
   "cell_type": "code",
   "execution_count": 57,
   "id": "golden-privilege",
   "metadata": {},
   "outputs": [
    {
     "name": "stdout",
     "output_type": "stream",
     "text": [
      "Help on function volume_kubus in module __main__:\n",
      "\n",
      "volume_kubus(panjang_sisi)\n",
      "    Fungsi untuk menghitung volume kubus\n",
      "    \n",
      "    Parameters:\n",
      "    panjang_sisi : float\n",
      "        Panjang sisi kubus\n",
      "        \n",
      "    Returns:\n",
      "    volume : float\n",
      "        Volume kubus\n",
      "\n"
     ]
    }
   ],
   "source": [
    "help(volume_kubus)"
   ]
  },
  {
   "cell_type": "markdown",
   "id": "cardiovascular-slovenia",
   "metadata": {},
   "source": [
    "Contoh pemanggilan fungsi `volume_kubus`:"
   ]
  },
  {
   "cell_type": "code",
   "execution_count": 58,
   "id": "abandoned-tennis",
   "metadata": {
    "scrolled": true
   },
   "outputs": [
    {
     "data": {
      "text/plain": [
       "27.0"
      ]
     },
     "execution_count": 58,
     "metadata": {},
     "output_type": "execute_result"
    }
   ],
   "source": [
    "volume_kubus(3)"
   ]
  },
  {
   "cell_type": "markdown",
   "id": "civilian-korea",
   "metadata": {},
   "source": [
    "Paramater juga dapat diberikan nilai *default*, dalam contoh ini `panjang_sisi` diberikan nilai *default* yaitu 30:"
   ]
  },
  {
   "cell_type": "code",
   "execution_count": 59,
   "id": "continental-karma",
   "metadata": {},
   "outputs": [],
   "source": [
    "def volume_kubus(panjang_sisi=3.0):\n",
    "    \"\"\"Fungsi untuk menghitung volume kubus\n",
    "    \n",
    "    Parameters:\n",
    "    panjang_sisi : float, default=3.0\n",
    "        Panjang sisi kubus\n",
    "        \n",
    "    Returns:\n",
    "    volume : float\n",
    "        Volume kubus\n",
    "    \"\"\"\n",
    "    volume = float(panjang_sisi)**3\n",
    "    return volume"
   ]
  },
  {
   "cell_type": "code",
   "execution_count": 60,
   "id": "clear-tomorrow",
   "metadata": {},
   "outputs": [
    {
     "name": "stdout",
     "output_type": "stream",
     "text": [
      "Help on function volume_kubus in module __main__:\n",
      "\n",
      "volume_kubus(panjang_sisi=3.0)\n",
      "    Fungsi untuk menghitung volume kubus\n",
      "    \n",
      "    Parameters:\n",
      "    panjang_sisi : float, default=3.0\n",
      "        Panjang sisi kubus\n",
      "        \n",
      "    Returns:\n",
      "    volume : float\n",
      "        Volume kubus\n",
      "\n"
     ]
    }
   ],
   "source": [
    "help(volume_kubus)"
   ]
  },
  {
   "cell_type": "markdown",
   "id": "amended-edgar",
   "metadata": {},
   "source": [
    "Saat sebuah parameter fungsi memiliki nilai *default* maka apabila kita tidak mengisikan parameter dan argumen tersebut kita akan tetap mendapatkan hasil, dengan `panjang_sisi` otomatis adalah 30."
   ]
  },
  {
   "cell_type": "code",
   "execution_count": 61,
   "id": "nasty-sherman",
   "metadata": {},
   "outputs": [
    {
     "data": {
      "text/plain": [
       "27.0"
      ]
     },
     "execution_count": 61,
     "metadata": {},
     "output_type": "execute_result"
    }
   ],
   "source": [
    "volume_kubus()"
   ]
  },
  {
   "cell_type": "markdown",
   "id": "prostate-correlation",
   "metadata": {},
   "source": [
    "Fungsi juga dapat dituliskan dalam bentuk `lambda` yang singkat tetapi nama fungsinya tidak tersimpan dan langsung menjadi nama variabel. Contoh fungsi `lambda`:"
   ]
  },
  {
   "cell_type": "code",
   "execution_count": 62,
   "id": "external-refund",
   "metadata": {},
   "outputs": [
    {
     "name": "stdout",
     "output_type": "stream",
     "text": [
      "25\n"
     ]
    }
   ],
   "source": [
    "pangkat_2 = lambda x: x**2\n",
    "print(pangkat_2(5))"
   ]
  },
  {
   "cell_type": "markdown",
   "id": "twelve-builder",
   "metadata": {},
   "source": [
    "Fungsi juga dapat berbentuk fungsi yang rekursif seperti contoh fungsi faktorial yang diambil dari [programiz](https://www.programiz.com/python-programming/recursion):"
   ]
  },
  {
   "cell_type": "code",
   "execution_count": 63,
   "id": "ignored-volume",
   "metadata": {},
   "outputs": [
    {
     "name": "stdout",
     "output_type": "stream",
     "text": [
      "The factorial of 3 is 6\n"
     ]
    }
   ],
   "source": [
    "def factorial(x):\n",
    "    \"\"\"This is a recursive function\n",
    "    to find the factorial of an integer\"\"\"\n",
    "\n",
    "    if x == 1:\n",
    "        return 1\n",
    "    else:\n",
    "        return (x * factorial(x-1))\n",
    "\n",
    "\n",
    "num = 3\n",
    "print(\"The factorial of\", num, \"is\", factorial(num))"
   ]
  },
  {
   "cell_type": "markdown",
   "id": "occasional-arrival",
   "metadata": {},
   "source": [
    "### Memasukkan Kode Filter ke Dalam Fungsi\n",
    "\n",
    "Setelah memahami tentang fungsi, kita kemudian akan memasukkan kode-kode filter katalog kita tadi ke dalam sebuah fungsi sehingga kita tidak perlu menuliskan berulang-ulang dan hanya perlu memanggilnya. Untuk memasukkan ke dalam fungsi kita dapat menggunakan kode berikut ini dengan parameter yang harus dimasukkan masih dalam bentuk `list` atau kolom."
   ]
  },
  {
   "cell_type": "code",
   "execution_count": 64,
   "id": "olive-castle",
   "metadata": {},
   "outputs": [],
   "source": [
    "def filter_katalog_waktu(waktu_awal, waktu_akhir, waktu, longitude, \\\n",
    "                         latitude, kedalaman, magnitudo):\n",
    "    \"\"\"Fungsi untuk memfilter katalog berdasarkan waktu\n",
    "    \n",
    "    Parameters:\n",
    "    waktu_awal : datetime.datetime\n",
    "        Waktu awal untuk proses filter\n",
    "    waktu_akhir : datetime.datetime\n",
    "        Waktu akhir untuk proses filter\n",
    "    waktu : list\n",
    "        List yang berisi waktu kejadian\n",
    "    longitude : list\n",
    "        List yang berisi longitude\n",
    "    latitude : list\n",
    "        List yang berisi latitude\n",
    "    kedalaman : list\n",
    "        List yang berisi kedalaman\n",
    "    magnitudo : list\n",
    "        List yang berisi magnitudo\n",
    "    \n",
    "        \n",
    "    Returns:\n",
    "    waktu_hasil_filter : list\n",
    "        List yang berisi waktu kejadian hasil filter\n",
    "    longitude_hasil_filter : list\n",
    "        List yang berisi longitude hasil filter\n",
    "    latitude_hasil_filter : list\n",
    "        List yang berisi latitude hasil filter\n",
    "    kedalaman_hasil_filter : list\n",
    "        List yang berisi kedalaman hasil filter\n",
    "    magnitudo_hasil_filter : list\n",
    "        List yang berisi magnitudo hasil filter\n",
    "    \"\"\" \n",
    "        \n",
    "    #katalog hasil_filter\n",
    "    waktu_hasil_filter = []\n",
    "    longitude_hasil_filter = []\n",
    "    latitude_hasil_filter = []\n",
    "    kedalaman_hasil_filter = []\n",
    "    magnitudo_hasil_filter = []\n",
    "\n",
    "    # mengumpulkan kolom menjadi satu `zip`\n",
    "    katalog = zip(waktu, latitude, longitude, kedalaman, magnitudo)\n",
    "\n",
    "    for t,lat,lon,ked,mag in katalog:\n",
    "        # jika waktu lebih dari tanggal awal dan kurang dari tanggal akhir\n",
    "        if t>waktu_awal and t<waktu_akhir:\n",
    "            waktu_hasil_filter.append(t)\n",
    "            longitude_hasil_filter.append(lon)\n",
    "            latitude_hasil_filter.append(lat)\n",
    "            kedalaman_hasil_filter.append(ked)\n",
    "            magnitudo_hasil_filter.append(mag)\n",
    "    \n",
    "    print(\"Semua data\",len(waktu))\n",
    "    print(\"Data hasil_filter\",len(waktu_hasil_filter))\n",
    "    return waktu_hasil_filter, longitude_hasil_filter, latitude_hasil_filter, \\\n",
    "            kedalaman_hasil_filter, magnitudo_hasil_filter\n"
   ]
  },
  {
   "cell_type": "code",
   "execution_count": 65,
   "id": "communist-fence",
   "metadata": {
    "scrolled": true
   },
   "outputs": [
    {
     "name": "stdout",
     "output_type": "stream",
     "text": [
      "Help on function filter_katalog_waktu in module __main__:\n",
      "\n",
      "filter_katalog_waktu(waktu_awal, waktu_akhir, waktu, longitude, latitude, kedalaman, magnitudo)\n",
      "    Fungsi untuk memfilter katalog berdasarkan waktu\n",
      "    \n",
      "    Parameters:\n",
      "    waktu_awal : datetime.datetime\n",
      "        Waktu awal untuk proses filter\n",
      "    waktu_akhir : datetime.datetime\n",
      "        Waktu akhir untuk proses filter\n",
      "    waktu : list\n",
      "        List yang berisi waktu kejadian\n",
      "    longitude : list\n",
      "        List yang berisi longitude\n",
      "    latitude : list\n",
      "        List yang berisi latitude\n",
      "    kedalaman : list\n",
      "        List yang berisi kedalaman\n",
      "    magnitudo : list\n",
      "        List yang berisi magnitudo\n",
      "    \n",
      "        \n",
      "    Returns:\n",
      "    waktu_hasil_filter : list\n",
      "        List yang berisi waktu kejadian hasil filter\n",
      "    longitude_hasil_filter : list\n",
      "        List yang berisi longitude hasil filter\n",
      "    latitude_hasil_filter : list\n",
      "        List yang berisi latitude hasil filter\n",
      "    kedalaman_hasil_filter : list\n",
      "        List yang berisi kedalaman hasil filter\n",
      "    magnitudo_hasil_filter : list\n",
      "        List yang berisi magnitudo hasil filter\n",
      "\n"
     ]
    }
   ],
   "source": [
    "help(filter_katalog_waktu)"
   ]
  },
  {
   "cell_type": "markdown",
   "id": "excessive-vienna",
   "metadata": {},
   "source": [
    "Kita dapat mencoba memanggil fungsi kita:"
   ]
  },
  {
   "cell_type": "code",
   "execution_count": 66,
   "id": "rural-innocent",
   "metadata": {
    "scrolled": true
   },
   "outputs": [
    {
     "name": "stdout",
     "output_type": "stream",
     "text": [
      "Semua data 42\n",
      "Data hasil_filter 21\n"
     ]
    },
    {
     "data": {
      "text/plain": [
       "([datetime.datetime(2021, 1, 14, 22, 17, 34, 940000),\n",
       "  datetime.datetime(2021, 1, 14, 20, 46, 12, 410000),\n",
       "  datetime.datetime(2021, 1, 14, 20, 28, 7, 923000),\n",
       "  datetime.datetime(2021, 1, 14, 19, 59, 7, 736000),\n",
       "  datetime.datetime(2021, 1, 14, 19, 55, 26, 840000),\n",
       "  datetime.datetime(2021, 1, 14, 19, 31, 13, 655000),\n",
       "  datetime.datetime(2021, 1, 14, 19, 25, 24, 353000),\n",
       "  datetime.datetime(2021, 1, 14, 19, 11, 19, 488000),\n",
       "  datetime.datetime(2021, 1, 14, 19, 2, 1, 160000),\n",
       "  datetime.datetime(2021, 1, 14, 18, 55, 16, 447000),\n",
       "  datetime.datetime(2021, 1, 14, 18, 48, 52, 56000),\n",
       "  datetime.datetime(2021, 1, 14, 18, 41, 54, 53000),\n",
       "  datetime.datetime(2021, 1, 14, 18, 39, 57, 672000),\n",
       "  datetime.datetime(2021, 1, 14, 18, 28, 20, 239000),\n",
       "  datetime.datetime(2021, 1, 14, 18, 25, 39, 776000),\n",
       "  datetime.datetime(2021, 1, 14, 17, 22, 36, 118000),\n",
       "  datetime.datetime(2021, 1, 14, 17, 1, 7, 592000),\n",
       "  datetime.datetime(2021, 1, 14, 7, 33, 55, 830000),\n",
       "  datetime.datetime(2021, 1, 14, 6, 51, 34, 540000),\n",
       "  datetime.datetime(2021, 1, 14, 6, 38, 38, 373000),\n",
       "  datetime.datetime(2021, 1, 14, 6, 35, 50, 399000)],\n",
       " [118.93,\n",
       "  118.84,\n",
       "  118.85,\n",
       "  118.91,\n",
       "  119.01,\n",
       "  118.94,\n",
       "  118.93,\n",
       "  118.93,\n",
       "  118.91,\n",
       "  118.94,\n",
       "  118.89,\n",
       "  118.88,\n",
       "  118.95,\n",
       "  118.94,\n",
       "  118.9,\n",
       "  118.9,\n",
       "  118.88,\n",
       "  118.88,\n",
       "  118.93,\n",
       "  118.89,\n",
       "  118.92],\n",
       " [-2.89,\n",
       "  -2.91,\n",
       "  -2.89,\n",
       "  -2.96,\n",
       "  -2.9,\n",
       "  -3.02,\n",
       "  -2.92,\n",
       "  -2.93,\n",
       "  -2.94,\n",
       "  -3.01,\n",
       "  -2.95,\n",
       "  -2.89,\n",
       "  -3.03,\n",
       "  -2.97,\n",
       "  -2.94,\n",
       "  -2.92,\n",
       "  -2.94,\n",
       "  -2.99,\n",
       "  -2.95,\n",
       "  -2.97,\n",
       "  -3.01],\n",
       " [10,\n",
       "  10,\n",
       "  14,\n",
       "  10,\n",
       "  15,\n",
       "  23,\n",
       "  10,\n",
       "  10,\n",
       "  10,\n",
       "  19,\n",
       "  11,\n",
       "  10,\n",
       "  10,\n",
       "  21,\n",
       "  10,\n",
       "  10,\n",
       "  11,\n",
       "  10,\n",
       "  15,\n",
       "  10,\n",
       "  12],\n",
       " [3.2,\n",
       "  3.4,\n",
       "  3.4,\n",
       "  3.2,\n",
       "  3.2,\n",
       "  2.6,\n",
       "  3.2,\n",
       "  3.5,\n",
       "  3.1,\n",
       "  3.0,\n",
       "  3.9,\n",
       "  4.1,\n",
       "  4.1,\n",
       "  6.2,\n",
       "  3.1,\n",
       "  2.8,\n",
       "  2.9,\n",
       "  3.8,\n",
       "  2.8,\n",
       "  4.9,\n",
       "  5.7])"
      ]
     },
     "execution_count": 66,
     "metadata": {},
     "output_type": "execute_result"
    }
   ],
   "source": [
    "tanggal_awal = datetime.datetime(2021,1,14) # 12 Januari 2021\n",
    "tanggal_akhir = datetime.datetime(2021,1,15) # 14 Januari 2021\n",
    "\n",
    "hasil_filter = filter_katalog_waktu(tanggal_awal, tanggal_akhir, waktu, longitude, latitude, \\\n",
    "                                    kedalaman, magnitudo)\n",
    "\n",
    "hasil_filter"
   ]
  },
  {
   "cell_type": "markdown",
   "id": "parallel-perry",
   "metadata": {},
   "source": [
    "Kemudian mengeplot hasil fungsi tersebut:"
   ]
  },
  {
   "cell_type": "code",
   "execution_count": 67,
   "id": "falling-generator",
   "metadata": {},
   "outputs": [],
   "source": [
    "hasil_filter_t = hasil_filter[0]\n",
    "hasil_filter_lon = hasil_filter[1]\n",
    "hasil_filter_lat = hasil_filter[2]\n",
    "hasil_filter_ked = hasil_filter[3]\n",
    "hasil_filter_mag = hasil_filter[4]"
   ]
  },
  {
   "cell_type": "code",
   "execution_count": 68,
   "id": "functioning-alarm",
   "metadata": {
    "scrolled": true
   },
   "outputs": [
    {
     "data": {
      "text/plain": [
       "<matplotlib.collections.PathCollection at 0x7f3d100d8fa0>"
      ]
     },
     "execution_count": 68,
     "metadata": {},
     "output_type": "execute_result"
    },
    {
     "data": {
      "image/png": "[encoded data removed]",
      "text/plain": [
       "<Figure size 432x288 with 1 Axes>"
      ]
     },
     "metadata": {
      "needs_background": "light"
     },
     "output_type": "display_data"
    }
   ],
   "source": [
    "plt.scatter(hasil_filter_t, hasil_filter_ked)"
   ]
  },
  {
   "cell_type": "markdown",
   "id": "answering-wilson",
   "metadata": {},
   "source": [
    "Kode dapat kita sederhanakan dengan menggunakan pengetahuan `dictionary` seperti pada contoh awal. Peserta dapat berlatih dengan studi kasus ini, yaitu mengubah parameter fungsi dari masing-masing kolom menjadi satu `dictionary` saja."
   ]
  },
  {
   "cell_type": "markdown",
   "id": "personalized-characteristic",
   "metadata": {},
   "source": [
    "### Menyimpan Fungsi ke Dalam Sebuah Modul\n",
    "\n",
    "Fungsi `filter_katalog_waktu` di atas salinlah ke dalam folder `utilities` yang berada satu level dengan notebook ini ke dalam file dengan nama `filter_katalog.py`. Pada folder `utilities` tersebut, buatlah satu file lagi dengan nama `__init__.py` (file kosong) sebagai penanda untuk Python bahwa folder tersebut merupakan sebuah modul. Susunannya kira-kira adalah seperti ini:\n",
    "\n",
    "```\n",
    "|folder_utama/\n",
    "|-|utilites/\n",
    "|-|-|__init__.py\n",
    "|-|-|filter_katalog.py\n",
    "|-|2_Materi_Dasar_Python.ipynb\n",
    "```"
   ]
  },
  {
   "cell_type": "markdown",
   "id": "regulated-cartoon",
   "metadata": {},
   "source": [
    "Setelah itu kita dapat memanggil fungsi kita layaknya modul-modul yang sudah kita gunakan sebelumnya:"
   ]
  },
  {
   "cell_type": "code",
   "execution_count": 69,
   "id": "juvenile-terrace",
   "metadata": {},
   "outputs": [
    {
     "name": "stdout",
     "output_type": "stream",
     "text": [
      "Help on function filter_katalog_waktu in module utilities.filter_katalog:\n",
      "\n",
      "filter_katalog_waktu(waktu_awal, waktu_akhir, waktu, longitude, latitude, kedalaman, magnitudo)\n",
      "    Fungsi untuk memfilter katalog berdasarkan waktu\n",
      "    \n",
      "    Parameters:\n",
      "    waktu_awal : datetime.datetime\n",
      "        Waktu awal untuk proses filter\n",
      "    waktu_akhir : datetime.datetime\n",
      "        Waktu akhir untuk proses filter\n",
      "    waktu : list\n",
      "        List yang berisi waktu kejadian\n",
      "    longitude : list\n",
      "        List yang berisi longitude\n",
      "    latitude : list\n",
      "        List yang berisi latitude\n",
      "    kedalaman : list\n",
      "        List yang berisi kedalaman\n",
      "    magnitudo : list\n",
      "        List yang berisi magnitudo\n",
      "    \n",
      "        \n",
      "    Returns:\n",
      "    waktu_hasil_filter : list\n",
      "        List yang berisi waktu kejadian hasil filter\n",
      "    longitude_hasil_filter : list\n",
      "        List yang berisi longitude hasil filter\n",
      "    latitude_hasil_filter : list\n",
      "        List yang berisi latitude hasil filter\n",
      "    kedalaman_hasil_filter : list\n",
      "        List yang berisi kedalaman hasil filter\n",
      "    magnitudo_hasil_filter : list\n",
      "        List yang berisi magnitudo hasil filter\n",
      "\n"
     ]
    }
   ],
   "source": [
    "from utilities.filter_katalog import filter_katalog_waktu\n",
    "\n",
    "help(filter_katalog_waktu)"
   ]
  },
  {
   "cell_type": "markdown",
   "id": "robust-greenhouse",
   "metadata": {},
   "source": [
    "## Visualisasi Data\n",
    "\n",
    "Visualisasi data di Python biasa dilakukan dengan menggunakan modul `matplotlib`, modul ini yang paling umum dan sebenarnya masih banya modul visualisasi data yang lain. Setelah ditahap sebelumnya kita sudah mengolah dan mencoba mengaplikasikan beberapa algoritma umum Python, pada tahap ini kita akan memvisualisasikan data-data yang telah kita baca. Proses plotting para `matplotlib` dilakukan menggunakan fungsi `pyplot`, fungsi ini akan kita impor kemudian kita beri alias sebagai `plt`."
   ]
  },
  {
   "cell_type": "code",
   "execution_count": 70,
   "id": "cardiovascular-surface",
   "metadata": {},
   "outputs": [],
   "source": [
    "import matplotlib.pyplot as plt\n",
    "%matplotlib inline"
   ]
  },
  {
   "cell_type": "markdown",
   "id": "wound-anxiety",
   "metadata": {},
   "source": [
    "### Plot sederhana\n",
    "Fungsi paling sederhana dan mudah adalah dengan langsung melakukan plot menggunakan `plt` ini:"
   ]
  },
  {
   "cell_type": "code",
   "execution_count": 71,
   "id": "amended-hawaiian",
   "metadata": {},
   "outputs": [
    {
     "data": {
      "text/plain": [
       "<matplotlib.collections.PathCollection at 0x7f3d10121370>"
      ]
     },
     "execution_count": 71,
     "metadata": {},
     "output_type": "execute_result"
    },
    {
     "data": {
      "image/png": "[encoded data removed]",
      "text/plain": [
       "<Figure size 432x288 with 1 Axes>"
      ]
     },
     "metadata": {
      "needs_background": "light"
     },
     "output_type": "display_data"
    }
   ],
   "source": [
    "plt.scatter(longitude, latitude)"
   ]
  },
  {
   "cell_type": "markdown",
   "id": "signal-attendance",
   "metadata": {},
   "source": [
    "Fungsi `plt.scatter` seperti di atas akan mengeplot data menjadi titik-titik/*scatter*. Fungsi untuk mengeplot garis adalah `plt.plot`:"
   ]
  },
  {
   "cell_type": "code",
   "execution_count": 72,
   "id": "verified-turtle",
   "metadata": {},
   "outputs": [
    {
     "data": {
      "text/plain": [
       "[<matplotlib.lines.Line2D at 0x7f3d1022dac0>]"
      ]
     },
     "execution_count": 72,
     "metadata": {},
     "output_type": "execute_result"
    },
    {
     "data": {
      "image/png": "[encoded data removed]",
      "text/plain": [
       "<Figure size 432x288 with 1 Axes>"
      ]
     },
     "metadata": {
      "needs_background": "light"
     },
     "output_type": "display_data"
    }
   ],
   "source": [
    "plt.plot(waktu, magnitudo)"
   ]
  },
  {
   "cell_type": "markdown",
   "id": "greenhouse-empty",
   "metadata": {},
   "source": [
    "Masih banyak sekali bentuk-bentuk plot yang dapat dilihat secara lebih lengkap di website [matplotlib](https://matplotlib.org/).\n",
    "\n",
    "### Menambah komponen plot\n",
    " Komponen-komponen grafik dapat kita tambahkan dengan beberapa fungsi di bawah ini:\n"
   ]
  },
  {
   "cell_type": "code",
   "execution_count": 73,
   "id": "listed-transcript",
   "metadata": {},
   "outputs": [
    {
     "data": {
      "text/plain": [
       "<matplotlib.legend.Legend at 0x7f3d10305850>"
      ]
     },
     "execution_count": 73,
     "metadata": {},
     "output_type": "execute_result"
    },
    {
     "data": {
      "image/png": "[encoded data removed]",
      "text/plain": [
       "<Figure size 432x288 with 1 Axes>"
      ]
     },
     "metadata": {
      "needs_background": "light"
     },
     "output_type": "display_data"
    }
   ],
   "source": [
    "# mengeplot (ditambah label)\n",
    "plt.scatter(longitude, latitude, label=\"Episenter\")\n",
    "\n",
    "# menambah keterangan sumbu x dan y\n",
    "plt.xlabel(\"Longitude [deg]\")\n",
    "plt.ylabel(\"Latitude [deg]\")\n",
    "\n",
    "# menambah judul plot\n",
    "plt.title(\"Plot Episenter Gempa di Sekitar Mamuju\")\n",
    "\n",
    "# menambah garis grid\n",
    "plt.grid()\n",
    "\n",
    "# menampilkan legenda\n",
    "plt.legend()"
   ]
  },
  {
   "cell_type": "markdown",
   "id": "arctic-mystery",
   "metadata": {},
   "source": [
    "### Menyimpan plot\n",
    "Untuk menambahkan menyimpan gambar kita dapat menggunakan fungsi `plt.savefig` diikuti dengan `lokasi` output dan `dpi` yang merupakan resolusi dalam *dot per inch*, contoh gambar di atas akan kita simpan di folder `output` (folder ini harus sudah dibuat terlebih dahulu)."
   ]
  },
  {
   "cell_type": "code",
   "execution_count": 74,
   "id": "designing-dutch",
   "metadata": {},
   "outputs": [
    {
     "data": {
      "image/png": "[encoded data removed]",
      "text/plain": [
       "<Figure size 432x288 with 1 Axes>"
      ]
     },
     "metadata": {
      "needs_background": "light"
     },
     "output_type": "display_data"
    }
   ],
   "source": [
    "# mengeplot (ditambah label)\n",
    "plt.scatter(longitude, latitude, label=\"Episenter\")\n",
    "\n",
    "# menambah keterangan sumbu x dan y\n",
    "plt.xlabel(\"Longitude [deg]\")\n",
    "plt.ylabel(\"Latitude [deg]\")\n",
    "\n",
    "# menambah judul plot\n",
    "plt.title(\"Plot Episenter Gempa di Sekitar Mamuju\")\n",
    "\n",
    "# menambah garis grid\n",
    "plt.grid()\n",
    "\n",
    "# menampilkan legenda\n",
    "plt.legend()\n",
    "\n",
    "# menyimpan ke folder output dengan nama episenter.png\n",
    "plt.savefig(\"output/episenter.png\", dpi=144)"
   ]
  },
  {
   "cell_type": "markdown",
   "id": "fallen-frontier",
   "metadata": {},
   "source": [
    "### Memanfaatkan `format` string untuk keterangan-keterangan plot\n",
    "Teman-teman kemudian dapat mengecek ke folder `output` untuk melihat gambar dalam ukuran yang asli. Kita juga dapat menggunakan `format` string untuk memberikan judul yang mengandung variabel tertentu. Pada contoh di bawah ini kita memberikan keterangan waktu pada judul grafik dengan menggunakan `format` dan `{}` sebagai *placeholder*. Variabel yang dimasukkan adalah waktu awal `waktu[-1]` dan waktu akhir `waktu[0]` yang dikonversi ke dalam tanggal saja dengan metode `date()`."
   ]
  },
  {
   "cell_type": "code",
   "execution_count": 75,
   "id": "closing-register",
   "metadata": {},
   "outputs": [
    {
     "data": {
      "image/png": "[encoded data removed]",
      "text/plain": [
       "<Figure size 432x288 with 1 Axes>"
      ]
     },
     "metadata": {
      "needs_background": "light"
     },
     "output_type": "display_data"
    }
   ],
   "source": [
    "plt.scatter(longitude, latitude) # mengplot titik episenter\n",
    "plt.xlabel(\"Longitude [deg]\") #menambah label pada sumbu x\n",
    "\n",
    "plt.ylabel(\"Latitude [deg]\") # menambah label pada sumbu y\n",
    "plt.title(\"Persebaran Gempa di Mamuju pada \\n\" + \\\n",
    "         \"{} sampai {}\".format(waktu[-1].date(), waktu[0].date())) #keterangan waktu pada judul\n",
    "plt.grid()"
   ]
  },
  {
   "cell_type": "markdown",
   "id": "caroline-prime",
   "metadata": {},
   "source": [
    "### Mengubah warna dan ukuran plot\n",
    "Kita dapat melengkapi warna dan ukuran titik episenter sesuai dengan magnitudo dan kedalaman dengan menambahkan argumen `c` yang berarti `color` ke dalam fungsi `plt.scatter`, argumen `c` ini akan kita isi dengan kedalaman karena kita akan mewarnai berdasarkan kedalaman. Argumen `s` mewakili ukuran titik, akan kita isi dengan magnitudo yang mewakili ukuran titik. Pada akhir kode kita dapat menambahkan `plt.colorbar` untuk menampilkan skala warna."
   ]
  },
  {
   "cell_type": "code",
   "execution_count": 76,
   "id": "current-typing",
   "metadata": {},
   "outputs": [
    {
     "data": {
      "text/plain": [
       "<matplotlib.colorbar.Colorbar at 0x7f3d09f6d6a0>"
      ]
     },
     "execution_count": 76,
     "metadata": {},
     "output_type": "execute_result"
    },
    {
     "data": {
      "image/png": "[encoded data removed]",
      "text/plain": [
       "<Figure size 432x288 with 2 Axes>"
      ]
     },
     "metadata": {
      "needs_background": "light"
     },
     "output_type": "display_data"
    }
   ],
   "source": [
    "plt.scatter(longitude, latitude, c=kedalaman, s=magnitudo) # mengplot titik episenter\n",
    "plt.xlabel(\"Longitude [deg]\") #menambah label pada sumbu x\n",
    "plt.ylabel(\"Latitude [deg]\") # menambah label pada sumbu y\n",
    "plt.title(\"Persebaran Gempa di Mamuju pada \\n\" + \\\n",
    "         \"{} sampai {}\".format(waktu[-1].date(), waktu[0].date())) #keterangan waktu pada judul\n",
    "plt.grid()\n",
    "plt.colorbar(label=\"Kedalaman [km]\")"
   ]
  },
  {
   "cell_type": "markdown",
   "id": "changing-crack",
   "metadata": {},
   "source": [
    "### Mengubah Ukuran Titik dan Menambahkan Legenda Magnitudo\n",
    "\n",
    "Ternyata ukuran magnitudo sangat kecil kita dapat memodifikasi nilai magnitudo dengan dikalikan dengan nilai tertentu menggunakan loop. Looping yang akan kita gunakan merupakan looping yang sama hanya saja ditulis dengan lebih singkat. Angka magnitudo akan dikalikan pangkatkan ke 2,5 untuk memperbesar ukuran plot, kemudian pada argumen `s` di `plt.scatter` kita harus mengganti menjadi `magnitudo_modifikasi`. Modifikasi lain juga harus kita berikan, `plt.scatter` harus kita beri nama seperti `eq` kemudian kita harus menambahkan `*eq.legend_elements(\"sizes\", num=4, func=lambda x: x**(1/2.5))` di bagian `plt.legend`. `num` dapat kita ganti dengan berapa jumlah legenda ukuran titik yang akan ditampilkan, sedangkan `func` berisi fungsi untuk mengembalikan angka magnitudo ke angka sebenarnya (kita bagi 6 (`lambda x: x**(1/2.5)`))."
   ]
  },
  {
   "cell_type": "code",
   "execution_count": 77,
   "id": "headed-computer",
   "metadata": {
    "scrolled": true
   },
   "outputs": [
    {
     "data": {
      "text/plain": [
       "[26.333240780428074,\n",
       " 13.118829216054303,\n",
       " 10.90017247569964,\n",
       " 8.923353629661888,\n",
       " 16.920151004054308,\n",
       " 32.0,\n",
       " 8.022682219806539,\n",
       " 28.148742067808286,\n",
       " 22.91765149399039,\n",
       " 22.91765149399039,\n",
       " 26.333240780428074,\n",
       " 10.90017247569964,\n",
       " 21.315586785261154,\n",
       " 47.889978805591475,\n",
       " 22.91765149399039,\n",
       " 28.148742067808286,\n",
       " 11.978692332637985,\n",
       " 10.90017247569964,\n",
       " 38.34168006230295,\n",
       " 11.978692332637985,\n",
       " 18.31786887167828,\n",
       " 21.315586785261154,\n",
       " 21.315586785261154,\n",
       " 18.31786887167828,\n",
       " 18.31786887167828,\n",
       " 10.90017247569964,\n",
       " 18.31786887167828,\n",
       " 22.91765149399039,\n",
       " 16.920151004054308,\n",
       " 15.588457268119896,\n",
       " 30.03734325801801,\n",
       " 34.037655765343175,\n",
       " 34.037655765343175,\n",
       " 95.71482810933738,\n",
       " 16.920151004054308,\n",
       " 13.118829216054303,\n",
       " 14.321713933744102,\n",
       " 28.148742067808286,\n",
       " 13.118829216054303,\n",
       " 53.14840063444996,\n",
       " 77.56881183826397,\n",
       " 10.90017247569964]"
      ]
     },
     "execution_count": 77,
     "metadata": {},
     "output_type": "execute_result"
    }
   ],
   "source": [
    "magnitudo_modifikasi = [mag**2.5 for mag in magnitudo]\n",
    "magnitudo_modifikasi"
   ]
  },
  {
   "cell_type": "code",
   "execution_count": 78,
   "id": "experienced-barcelona",
   "metadata": {
    "scrolled": true
   },
   "outputs": [
    {
     "data": {
      "text/plain": [
       "<matplotlib.legend.Legend at 0x7f3d09eec1c0>"
      ]
     },
     "execution_count": 78,
     "metadata": {},
     "output_type": "execute_result"
    },
    {
     "data": {
      "image/png": "[encoded data removed]",
      "text/plain": [
       "<Figure size 432x288 with 2 Axes>"
      ]
     },
     "metadata": {
      "needs_background": "light"
     },
     "output_type": "display_data"
    }
   ],
   "source": [
    "import numpy as np\n",
    "eq = plt.scatter(longitude, latitude, c=kedalaman, s=magnitudo_modifikasi, label=\"Episenter\", cmap=\"jet\", alpha=.75) # mengplot titik episenter\n",
    "plt.xlabel(\"Longitude [deg]\") #menambah label pada sumbu x\n",
    "plt.ylabel(\"Latitude [deg]\") # menambah label pada sumbu y\n",
    "plt.title(\"Persebaran Gempa di Mamuju pada \\n\" + \\\n",
    "         \"{} sampai {}\".format(waktu[1].date(), waktu[0].date())) #keterangan waktu pada judul\n",
    "plt.grid()\n",
    "plt.colorbar(label=\"Kedalaman [km]\")\n",
    "plt.legend(*eq.legend_elements(\"sizes\", num=4, func=lambda x: x**(1/2.5)))"
   ]
  },
  {
   "cell_type": "markdown",
   "id": "informal-replication",
   "metadata": {},
   "source": [
    "### Tambahan: Menambahkan Peta\n",
    "\n",
    "Modul Python yang memiliki fungsi khusus untuk menampilkan peta salah satunya adalah `Cartopy`. Setelah `cartopy` kita install kita dapat memodifikasi kode dari Thomas Lecocq yang ditampilkan di halaman [tutorial](https://scitools.org.uk/cartopy/docs/v0.14/examples/srtm_shading.html). Sebelum menjalankan kode kita harus membuat akun EarthData ([buat akun](https://urs.earthdata.nasa.gov/users/new))kemudian menjalankankode di bawah ini untuk login."
   ]
  },
  {
   "cell_type": "code",
   "execution_count": 79,
   "id": "universal-burlington",
   "metadata": {},
   "outputs": [
    {
     "name": "stdout",
     "output_type": "stream",
     "text": [
      "Apabila belum memiliki akun EarthData silahkan kunjungi https://urs.earthdata.nasa.gov/users/new\n",
      "Masukkan username: anangsahroni\n",
      "Masukkan password: ········\n"
     ]
    }
   ],
   "source": [
    "# Referensi: https://github.com/SciTools/cartopy/issues/789 dengan ditambahkan form login dan getpass\n",
    "\n",
    "from http.cookiejar import CookieJar\n",
    "from urllib.parse import urlencode\n",
    "import urllib.request\n",
    "import getpass\n",
    "\n",
    "# The user credentials that will be used to authenticate access to the data\n",
    "print(\"Apabila belum memiliki akun EarthData silahkan kunjungi https://urs.earthdata.nasa.gov/users/new\")\n",
    "username = input(\"Masukkan username: \")\n",
    "passwd = getpass.getpass(\"Masukkan password: \")\n",
    "\n",
    "# The url of the file we wish to retrieve\n",
    "\n",
    "url = \"http://e4ftl01.cr.usgs.gov/\"\n",
    "\n",
    "# Create a password manager to deal with the 401 reponse that is returned from\n",
    "# Earthdata Login\n",
    "\n",
    "password_manager = urllib.request.HTTPPasswordMgrWithDefaultRealm()\n",
    "password_manager.add_password(None, \"https://urs.earthdata.nasa.gov\", username, passwd)\n",
    "\n",
    "# Create a cookie jar for storing cookies. This is used to store and return\n",
    "# the session cookie given to use by the data server (otherwise it will just\n",
    "# keep sending us back to Earthdata Login to authenticate).  Ideally, we\n",
    "# should use a file based cookie jar to preserve cookies between runs. This\n",
    "# will make it much more efficient.\n",
    "\n",
    "cookie_jar = CookieJar()\n",
    "\n",
    "# Install all the handlers.\n",
    "\n",
    "opener = urllib.request.build_opener(\n",
    "    urllib.request.HTTPBasicAuthHandler(password_manager),\n",
    "    #urllib2.HTTPHandler(debuglevel=1),    # Uncomment these two lines to see\n",
    "    #urllib2.HTTPSHandler(debuglevel=1),   # details of the requests/responses\n",
    "    urllib.request.HTTPCookieProcessor(cookie_jar))\n",
    "urllib.request.install_opener(opener)\n",
    "\n",
    "# Create and submit the request. There are a wide range of exceptions that\n",
    "# can be thrown here, including HTTPError and URLError. These should be\n",
    "# caught and handled.\n",
    "\n",
    "request = urllib.request.Request(url)\n",
    "response = urllib.request.urlopen(request)\n",
    "\n",
    "# Print out the result (not a good idea with binary data!)\n",
    "\n",
    "body = response.read()\n",
    "#print(body)"
   ]
  },
  {
   "cell_type": "markdown",
   "id": "celtic-modern",
   "metadata": {},
   "source": [
    "Setelah proses login selesai kita dapat melakukan plot dengan kode di bawah ini. Fungsi dan kode pada contoh di bawah ini terlihat lebih kompleks, tetapi kita sebenarnya hanya perlu berkonsentrasi pada:\n",
    "\n",
    "```python\n",
    "ax.set_extent([118.5, 119.2, -3.25, -2.65])\n",
    "```\n",
    "\n",
    "yang menjelaskan batas plot dalam derajat.\n",
    "\n",
    "\n",
    "```python\n",
    "eq = ax.scatter(longitude, latitude, zorder=12, s=magnitudo_modifikasi, c=kedalaman\\\n",
    "               ,cmap=\"jet\", alpha=.6)\n",
    "\n",
    "fig.colorbar(eq, label=\"Kedalaman [km]\")\n",
    "\n",
    "plt.title(\"Persebaran Gempa di Mamuju pada \\n\" + \\\n",
    "         \"{} sampai {}\".format(waktu[1].date(), waktu[0].date())) #keterangan waktu pada judul\n",
    "```\n",
    "\n",
    "menjelaskan plot dari data katalog kita, dan\n",
    "\n",
    "```python\n",
    "plt.legend(title=\"Magnitude\", loc=\"lower left\", \\\n",
    "           *eq.legend_elements(\"sizes\", num=4, func=lambda x: x**(1/2.5))).set_zorder(102)\n",
    "plt.savefig(\"output/gempa_dem.png\", dpi=300)\n",
    "```\n",
    "\n",
    "judul plot dan lokasi penyimpanan output.\n"
   ]
  },
  {
   "cell_type": "code",
   "execution_count": 81,
   "id": "secondary-question",
   "metadata": {},
   "outputs": [
    {
     "data": {
      "image/png": "[encoded data removed]",
      "text/plain": [
       "<Figure size 432x288 with 2 Axes>"
      ]
     },
     "metadata": {
      "needs_background": "light"
     },
     "output_type": "display_data"
    }
   ],
   "source": [
    "\"\"\"\n",
    "Dimodifikasi dari: https://scitools.org.uk/cartopy/docs/v0.14/examples/srtm_shading.html\n",
    "This example illustrates the automatic download of STRM data, and adding of\n",
    "shading to create a so-called \"Shaded Relief SRTM\".\n",
    "\n",
    "Originally contributed by Thomas Lecocq (http://geophysique.be).\n",
    "\n",
    "\"\"\"\n",
    "import numpy as np\n",
    "import cartopy.crs as ccrs\n",
    "from cartopy.io import srtm\n",
    "import matplotlib.pyplot as plt\n",
    "\n",
    "from cartopy.io import PostprocessedRasterSource, LocatedImage\n",
    "from cartopy.io.srtm import SRTM3Source\n",
    "import cartopy.feature as cfeature\n",
    "\n",
    "def shade(located_elevations):\n",
    "    \"\"\"\n",
    "    Fungsi untuk memberikan hillshade pada data DEM\n",
    "\n",
    "    \"\"\"\n",
    "    new_img = srtm.add_shading(located_elevations.image,\n",
    "                               azimuth=135, altitude=15)\n",
    "    return LocatedImage(new_img, located_elevations.extent)\n",
    "\n",
    "\n",
    "Source=SRTM3Source\n",
    "name='SRTM3'\n",
    "fig = plt.figure()\n",
    "ax = plt.axes(projection=ccrs.PlateCarree())\n",
    "    \n",
    "# Define a raster source which uses the SRTM data and applies the\n",
    "# shade function when the data is retrieved.\n",
    "shaded_srtm = PostprocessedRasterSource(Source(), shade)\n",
    "\n",
    "# Add the shaded SRTM source to our map with a grayscale colormap.\n",
    "ax.add_raster(shaded_srtm, cmap='Greys', alpha=.75)\n",
    "\n",
    "# Add ocean from NaturalEarth\n",
    "# Add ocean from NE\n",
    "OCEAN = cfeature.NaturalEarthFeature(\n",
    "        category='physical',\n",
    "        name='ocean',\n",
    "        scale='10m')\n",
    "ax.add_feature(OCEAN, zorder=10)\n",
    "\n",
    "\n",
    "# This data is high resolution, so pick a small area which has some\n",
    "# interesting orography.\n",
    "ax.set_extent([118.5, 119.2, -3.25, -2.65])\n",
    "ax.set_xlabel(\"Longitude [deg]\")\n",
    "ax.set_ylabel(\"Latitude [deg]\")\n",
    "\n",
    "#add eq\n",
    "eq = ax.scatter(longitude, latitude, zorder=12, s=magnitudo_modifikasi, c=kedalaman\\\n",
    "               ,cmap=\"jet\", alpha=.6)\n",
    "\n",
    "fig.colorbar(eq, label=\"Kedalaman [km]\")\n",
    "\n",
    "plt.title(\"Persebaran Gempa di Mamuju pada \\n\" + \\\n",
    "         \"{} sampai {}\".format(waktu[-1].date(), waktu[0].date())) #keterangan waktu pada judul\n",
    "\n",
    "gl = ax.gridlines(draw_labels=True, dms=False, x_inline=False, y_inline=False, zorder=11)\n",
    "\n",
    "gl.xlabels_top = False\n",
    "gl.ylabels_right = False\n",
    "\n",
    "plt.legend(title=\"Magnitude\", loc=\"lower left\", \\\n",
    "           *eq.legend_elements(\"sizes\", num=4, func=lambda x: x**(1/2.5))).set_zorder(102)\n",
    "plt.savefig(\"output/gempa_dem.png\", dpi=300)"
   ]
  },
  {
   "cell_type": "code",
   "execution_count": null,
   "id": "commercial-interim",
   "metadata": {},
   "outputs": [],
   "source": []
  }
 ],
 "metadata": {
  "kernelspec": {
   "display_name": "Python 3",
   "language": "python",
   "name": "python3"
  },
  "language_info": {
   "codemirror_mode": {
    "name": "ipython",
    "version": 3
   },
   "file_extension": ".py",
   "mimetype": "text/x-python",
   "name": "python",
   "nbconvert_exporter": "python",
   "pygments_lexer": "ipython3",
   "version": "3.8.5"
  }
 },
 "nbformat": 4,
 "nbformat_minor": 5
}
